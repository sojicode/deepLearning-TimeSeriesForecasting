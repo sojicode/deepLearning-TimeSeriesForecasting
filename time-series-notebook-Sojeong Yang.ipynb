{
 "cells": [
  {
   "cell_type": "markdown",
   "metadata": {},
   "source": [
    "**Sojeong Yang**\n",
    "### CSC578 Final Project Part A: Time Series Forecasting"
   ]
  },
  {
   "cell_type": "code",
   "execution_count": 1,
   "metadata": {},
   "outputs": [
    {
     "name": "stdout",
     "output_type": "stream",
     "text": [
      "2.3.1\n"
     ]
    }
   ],
   "source": [
    "import pandas as pd\n",
    "import numpy as np\n",
    "from matplotlib import pyplot\n",
    "from sklearn import preprocessing\n",
    "from sklearn.preprocessing import LabelEncoder\n",
    "import datetime\n",
    "import IPython\n",
    "import IPython.display\n",
    "import matplotlib as mpl\n",
    "import matplotlib.pyplot as plt\n",
    "import seaborn as sns\n",
    "import tensorflow as tf\n",
    "from tensorflow.keras import datasets, layers, models, regularizers\n",
    "import tensorflow as tf\n",
    "from tensorflow.python.client import device_lib\n",
    "\n",
    "mpl.rcParams['figure.figsize'] = (8, 6)\n",
    "mpl.rcParams['axes.grid'] = False\n",
    "print(tf.__version__)"
   ]
  },
  {
   "cell_type": "markdown",
   "metadata": {},
   "source": [
    "### Load the weather dataset"
   ]
  },
  {
   "cell_type": "code",
   "execution_count": 2,
   "metadata": {},
   "outputs": [
    {
     "name": "stdout",
     "output_type": "stream",
     "text": [
      "(48204, 9)\n"
     ]
    },
    {
     "data": {
      "text/html": [
       "<div>\n",
       "<style scoped>\n",
       "    .dataframe tbody tr th:only-of-type {\n",
       "        vertical-align: middle;\n",
       "    }\n",
       "\n",
       "    .dataframe tbody tr th {\n",
       "        vertical-align: top;\n",
       "    }\n",
       "\n",
       "    .dataframe thead th {\n",
       "        text-align: right;\n",
       "    }\n",
       "</style>\n",
       "<table border=\"1\" class=\"dataframe\">\n",
       "  <thead>\n",
       "    <tr style=\"text-align: right;\">\n",
       "      <th></th>\n",
       "      <th>holiday</th>\n",
       "      <th>temp</th>\n",
       "      <th>rain_1h</th>\n",
       "      <th>snow_1h</th>\n",
       "      <th>clouds_all</th>\n",
       "      <th>weather_main</th>\n",
       "      <th>weather_description</th>\n",
       "      <th>date_time</th>\n",
       "      <th>traffic_volume</th>\n",
       "    </tr>\n",
       "  </thead>\n",
       "  <tbody>\n",
       "    <tr>\n",
       "      <th>0</th>\n",
       "      <td>None</td>\n",
       "      <td>288.28</td>\n",
       "      <td>0.0</td>\n",
       "      <td>0.0</td>\n",
       "      <td>40</td>\n",
       "      <td>Clouds</td>\n",
       "      <td>scattered clouds</td>\n",
       "      <td>2012-10-02 09:00:00</td>\n",
       "      <td>5545</td>\n",
       "    </tr>\n",
       "    <tr>\n",
       "      <th>1</th>\n",
       "      <td>None</td>\n",
       "      <td>289.36</td>\n",
       "      <td>0.0</td>\n",
       "      <td>0.0</td>\n",
       "      <td>75</td>\n",
       "      <td>Clouds</td>\n",
       "      <td>broken clouds</td>\n",
       "      <td>2012-10-02 10:00:00</td>\n",
       "      <td>4516</td>\n",
       "    </tr>\n",
       "    <tr>\n",
       "      <th>2</th>\n",
       "      <td>None</td>\n",
       "      <td>289.58</td>\n",
       "      <td>0.0</td>\n",
       "      <td>0.0</td>\n",
       "      <td>90</td>\n",
       "      <td>Clouds</td>\n",
       "      <td>overcast clouds</td>\n",
       "      <td>2012-10-02 11:00:00</td>\n",
       "      <td>4767</td>\n",
       "    </tr>\n",
       "    <tr>\n",
       "      <th>3</th>\n",
       "      <td>None</td>\n",
       "      <td>290.13</td>\n",
       "      <td>0.0</td>\n",
       "      <td>0.0</td>\n",
       "      <td>90</td>\n",
       "      <td>Clouds</td>\n",
       "      <td>overcast clouds</td>\n",
       "      <td>2012-10-02 12:00:00</td>\n",
       "      <td>5026</td>\n",
       "    </tr>\n",
       "    <tr>\n",
       "      <th>4</th>\n",
       "      <td>None</td>\n",
       "      <td>291.14</td>\n",
       "      <td>0.0</td>\n",
       "      <td>0.0</td>\n",
       "      <td>75</td>\n",
       "      <td>Clouds</td>\n",
       "      <td>broken clouds</td>\n",
       "      <td>2012-10-02 13:00:00</td>\n",
       "      <td>4918</td>\n",
       "    </tr>\n",
       "  </tbody>\n",
       "</table>\n",
       "</div>"
      ],
      "text/plain": [
       "  holiday    temp  rain_1h  snow_1h  clouds_all weather_main  \\\n",
       "0    None  288.28      0.0      0.0          40       Clouds   \n",
       "1    None  289.36      0.0      0.0          75       Clouds   \n",
       "2    None  289.58      0.0      0.0          90       Clouds   \n",
       "3    None  290.13      0.0      0.0          90       Clouds   \n",
       "4    None  291.14      0.0      0.0          75       Clouds   \n",
       "\n",
       "  weather_description            date_time  traffic_volume  \n",
       "0    scattered clouds  2012-10-02 09:00:00            5545  \n",
       "1       broken clouds  2012-10-02 10:00:00            4516  \n",
       "2     overcast clouds  2012-10-02 11:00:00            4767  \n",
       "3     overcast clouds  2012-10-02 12:00:00            5026  \n",
       "4       broken clouds  2012-10-02 13:00:00            4918  "
      ]
     },
     "execution_count": 2,
     "metadata": {},
     "output_type": "execute_result"
    }
   ],
   "source": [
    "df = pd.read_csv('Metro_Interstate_Traffic_Volume.csv')\n",
    "print(df.shape)\n",
    "df.head()"
   ]
  },
  {
   "cell_type": "code",
   "execution_count": 3,
   "metadata": {},
   "outputs": [],
   "source": [
    "date_time = pd.to_datetime(df.pop('date_time'), format='%Y-%m-%d %H:%M:%S')"
   ]
  },
  {
   "cell_type": "code",
   "execution_count": 4,
   "metadata": {},
   "outputs": [
    {
     "data": {
      "text/html": [
       "<div>\n",
       "<style scoped>\n",
       "    .dataframe tbody tr th:only-of-type {\n",
       "        vertical-align: middle;\n",
       "    }\n",
       "\n",
       "    .dataframe tbody tr th {\n",
       "        vertical-align: top;\n",
       "    }\n",
       "\n",
       "    .dataframe thead th {\n",
       "        text-align: right;\n",
       "    }\n",
       "</style>\n",
       "<table border=\"1\" class=\"dataframe\">\n",
       "  <thead>\n",
       "    <tr style=\"text-align: right;\">\n",
       "      <th></th>\n",
       "      <th>holiday</th>\n",
       "      <th>temp</th>\n",
       "      <th>rain_1h</th>\n",
       "      <th>snow_1h</th>\n",
       "      <th>clouds_all</th>\n",
       "      <th>weather_main</th>\n",
       "      <th>weather_description</th>\n",
       "      <th>traffic_volume</th>\n",
       "    </tr>\n",
       "  </thead>\n",
       "  <tbody>\n",
       "    <tr>\n",
       "      <th>0</th>\n",
       "      <td>None</td>\n",
       "      <td>288.28</td>\n",
       "      <td>0.0</td>\n",
       "      <td>0.0</td>\n",
       "      <td>40</td>\n",
       "      <td>Clouds</td>\n",
       "      <td>scattered clouds</td>\n",
       "      <td>5545</td>\n",
       "    </tr>\n",
       "    <tr>\n",
       "      <th>1</th>\n",
       "      <td>None</td>\n",
       "      <td>289.36</td>\n",
       "      <td>0.0</td>\n",
       "      <td>0.0</td>\n",
       "      <td>75</td>\n",
       "      <td>Clouds</td>\n",
       "      <td>broken clouds</td>\n",
       "      <td>4516</td>\n",
       "    </tr>\n",
       "    <tr>\n",
       "      <th>2</th>\n",
       "      <td>None</td>\n",
       "      <td>289.58</td>\n",
       "      <td>0.0</td>\n",
       "      <td>0.0</td>\n",
       "      <td>90</td>\n",
       "      <td>Clouds</td>\n",
       "      <td>overcast clouds</td>\n",
       "      <td>4767</td>\n",
       "    </tr>\n",
       "    <tr>\n",
       "      <th>3</th>\n",
       "      <td>None</td>\n",
       "      <td>290.13</td>\n",
       "      <td>0.0</td>\n",
       "      <td>0.0</td>\n",
       "      <td>90</td>\n",
       "      <td>Clouds</td>\n",
       "      <td>overcast clouds</td>\n",
       "      <td>5026</td>\n",
       "    </tr>\n",
       "    <tr>\n",
       "      <th>4</th>\n",
       "      <td>None</td>\n",
       "      <td>291.14</td>\n",
       "      <td>0.0</td>\n",
       "      <td>0.0</td>\n",
       "      <td>75</td>\n",
       "      <td>Clouds</td>\n",
       "      <td>broken clouds</td>\n",
       "      <td>4918</td>\n",
       "    </tr>\n",
       "  </tbody>\n",
       "</table>\n",
       "</div>"
      ],
      "text/plain": [
       "  holiday    temp  rain_1h  snow_1h  clouds_all weather_main  \\\n",
       "0    None  288.28      0.0      0.0          40       Clouds   \n",
       "1    None  289.36      0.0      0.0          75       Clouds   \n",
       "2    None  289.58      0.0      0.0          90       Clouds   \n",
       "3    None  290.13      0.0      0.0          90       Clouds   \n",
       "4    None  291.14      0.0      0.0          75       Clouds   \n",
       "\n",
       "  weather_description  traffic_volume  \n",
       "0    scattered clouds            5545  \n",
       "1       broken clouds            4516  \n",
       "2     overcast clouds            4767  \n",
       "3     overcast clouds            5026  \n",
       "4       broken clouds            4918  "
      ]
     },
     "execution_count": 4,
     "metadata": {},
     "output_type": "execute_result"
    }
   ],
   "source": [
    "df.head()"
   ]
  },
  {
   "cell_type": "code",
   "execution_count": 5,
   "metadata": {},
   "outputs": [
    {
     "name": "stdout",
     "output_type": "stream",
     "text": [
      "<class 'pandas.core.frame.DataFrame'>\n",
      "RangeIndex: 48204 entries, 0 to 48203\n",
      "Data columns (total 8 columns):\n",
      " #   Column               Non-Null Count  Dtype  \n",
      "---  ------               --------------  -----  \n",
      " 0   holiday              48204 non-null  object \n",
      " 1   temp                 48204 non-null  float64\n",
      " 2   rain_1h              48204 non-null  float64\n",
      " 3   snow_1h              48204 non-null  float64\n",
      " 4   clouds_all           48204 non-null  int64  \n",
      " 5   weather_main         48204 non-null  object \n",
      " 6   weather_description  48204 non-null  object \n",
      " 7   traffic_volume       48204 non-null  int64  \n",
      "dtypes: float64(3), int64(2), object(3)\n",
      "memory usage: 2.9+ MB\n"
     ]
    }
   ],
   "source": [
    "df.info()"
   ]
  },
  {
   "cell_type": "markdown",
   "metadata": {},
   "source": [
    "### Evolution of a few features over time:"
   ]
  },
  {
   "cell_type": "code",
   "execution_count": 6,
   "metadata": {},
   "outputs": [
    {
     "data": {
      "image/png": "[encoded data removed]",
      "text/plain": [
       "<Figure size 576x432 with 3 Axes>"
      ]
     },
     "metadata": {
      "needs_background": "light"
     },
     "output_type": "display_data"
    },
    {
     "data": {
      "image/png": "[encoded data removed]",
      "text/plain": [
       "<Figure size 576x432 with 3 Axes>"
      ]
     },
     "metadata": {
      "needs_background": "light"
     },
     "output_type": "display_data"
    }
   ],
   "source": [
    "plot_cols = ['temp', 'rain_1h','snow_1h']\n",
    "plot_features = df[plot_cols]\n",
    "plot_features.index = date_time\n",
    "_ = plot_features.plot(subplots=True)\n",
    "\n",
    "plot_features = df[plot_cols][:100]\n",
    "plot_features.index = date_time[:100]\n",
    "_ = plot_features.plot(subplots=True)"
   ]
  },
  {
   "cell_type": "code",
   "execution_count": 7,
   "metadata": {},
   "outputs": [
    {
     "data": {
      "image/png": "[encoded data removed]",
      "text/plain": [
       "<Figure size 576x432 with 2 Axes>"
      ]
     },
     "metadata": {
      "needs_background": "light"
     },
     "output_type": "display_data"
    },
    {
     "data": {
      "image/png": "[encoded data removed]",
      "text/plain": [
       "<Figure size 576x432 with 2 Axes>"
      ]
     },
     "metadata": {
      "needs_background": "light"
     },
     "output_type": "display_data"
    }
   ],
   "source": [
    "plot_cols = ['clouds_all', 'traffic_volume']\n",
    "plot_features = df[plot_cols]\n",
    "plot_features.index = date_time\n",
    "_ = plot_features.plot(subplots=True)\n",
    "\n",
    "plot_features = df[plot_cols][:100]\n",
    "plot_features.index = date_time[:100]\n",
    "_ = plot_features.plot(subplots=True)"
   ]
  },
  {
   "cell_type": "markdown",
   "metadata": {},
   "source": [
    "### Inspect and clean up the Dataset"
   ]
  },
  {
   "cell_type": "code",
   "execution_count": 8,
   "metadata": {},
   "outputs": [
    {
     "data": {
      "text/html": [
       "<div>\n",
       "<style scoped>\n",
       "    .dataframe tbody tr th:only-of-type {\n",
       "        vertical-align: middle;\n",
       "    }\n",
       "\n",
       "    .dataframe tbody tr th {\n",
       "        vertical-align: top;\n",
       "    }\n",
       "\n",
       "    .dataframe thead th {\n",
       "        text-align: right;\n",
       "    }\n",
       "</style>\n",
       "<table border=\"1\" class=\"dataframe\">\n",
       "  <thead>\n",
       "    <tr style=\"text-align: right;\">\n",
       "      <th></th>\n",
       "      <th>temp</th>\n",
       "      <th>rain_1h</th>\n",
       "      <th>snow_1h</th>\n",
       "      <th>clouds_all</th>\n",
       "      <th>traffic_volume</th>\n",
       "    </tr>\n",
       "  </thead>\n",
       "  <tbody>\n",
       "    <tr>\n",
       "      <th>count</th>\n",
       "      <td>48204.000000</td>\n",
       "      <td>48204.000000</td>\n",
       "      <td>48204.000000</td>\n",
       "      <td>48204.000000</td>\n",
       "      <td>48204.000000</td>\n",
       "    </tr>\n",
       "    <tr>\n",
       "      <th>mean</th>\n",
       "      <td>281.205870</td>\n",
       "      <td>0.334264</td>\n",
       "      <td>0.000222</td>\n",
       "      <td>49.362231</td>\n",
       "      <td>3259.818355</td>\n",
       "    </tr>\n",
       "    <tr>\n",
       "      <th>std</th>\n",
       "      <td>13.338232</td>\n",
       "      <td>44.789133</td>\n",
       "      <td>0.008168</td>\n",
       "      <td>39.015750</td>\n",
       "      <td>1986.860670</td>\n",
       "    </tr>\n",
       "    <tr>\n",
       "      <th>min</th>\n",
       "      <td>0.000000</td>\n",
       "      <td>0.000000</td>\n",
       "      <td>0.000000</td>\n",
       "      <td>0.000000</td>\n",
       "      <td>0.000000</td>\n",
       "    </tr>\n",
       "    <tr>\n",
       "      <th>25%</th>\n",
       "      <td>272.160000</td>\n",
       "      <td>0.000000</td>\n",
       "      <td>0.000000</td>\n",
       "      <td>1.000000</td>\n",
       "      <td>1193.000000</td>\n",
       "    </tr>\n",
       "    <tr>\n",
       "      <th>50%</th>\n",
       "      <td>282.450000</td>\n",
       "      <td>0.000000</td>\n",
       "      <td>0.000000</td>\n",
       "      <td>64.000000</td>\n",
       "      <td>3380.000000</td>\n",
       "    </tr>\n",
       "    <tr>\n",
       "      <th>75%</th>\n",
       "      <td>291.806000</td>\n",
       "      <td>0.000000</td>\n",
       "      <td>0.000000</td>\n",
       "      <td>90.000000</td>\n",
       "      <td>4933.000000</td>\n",
       "    </tr>\n",
       "    <tr>\n",
       "      <th>max</th>\n",
       "      <td>310.070000</td>\n",
       "      <td>9831.300000</td>\n",
       "      <td>0.510000</td>\n",
       "      <td>100.000000</td>\n",
       "      <td>7280.000000</td>\n",
       "    </tr>\n",
       "  </tbody>\n",
       "</table>\n",
       "</div>"
      ],
      "text/plain": [
       "               temp       rain_1h       snow_1h    clouds_all  traffic_volume\n",
       "count  48204.000000  48204.000000  48204.000000  48204.000000    48204.000000\n",
       "mean     281.205870      0.334264      0.000222     49.362231     3259.818355\n",
       "std       13.338232     44.789133      0.008168     39.015750     1986.860670\n",
       "min        0.000000      0.000000      0.000000      0.000000        0.000000\n",
       "25%      272.160000      0.000000      0.000000      1.000000     1193.000000\n",
       "50%      282.450000      0.000000      0.000000     64.000000     3380.000000\n",
       "75%      291.806000      0.000000      0.000000     90.000000     4933.000000\n",
       "max      310.070000   9831.300000      0.510000    100.000000     7280.000000"
      ]
     },
     "execution_count": 8,
     "metadata": {},
     "output_type": "execute_result"
    }
   ],
   "source": [
    "df.describe()"
   ]
  },
  {
   "cell_type": "markdown",
   "metadata": {},
   "source": [
    "### Convert the Time format"
   ]
  },
  {
   "cell_type": "code",
   "execution_count": 9,
   "metadata": {},
   "outputs": [],
   "source": [
    "timestamp_s = date_time.map(datetime.datetime.timestamp)\n",
    "\n",
    "day = 24*60*60\n",
    "year = (365.2425)*day\n",
    "\n",
    "df['Day sin'] = np.sin(timestamp_s * (2 * np.pi / day))\n",
    "df['Day cos'] = np.cos(timestamp_s * (2 * np.pi / day))\n",
    "df['Year sin'] = np.sin(timestamp_s * (2 * np.pi / year))\n",
    "df['Year cos'] = np.cos(timestamp_s * (2 * np.pi / year))"
   ]
  },
  {
   "cell_type": "code",
   "execution_count": 10,
   "metadata": {},
   "outputs": [
    {
     "data": {
      "text/plain": [
       "Text(0.5, 1.0, 'Time of day signal')"
      ]
     },
     "execution_count": 10,
     "metadata": {},
     "output_type": "execute_result"
    },
    {
     "data": {
      "image/png": "[encoded data removed]",
      "text/plain": [
       "<Figure size 576x432 with 1 Axes>"
      ]
     },
     "metadata": {
      "needs_background": "light"
     },
     "output_type": "display_data"
    }
   ],
   "source": [
    "plt.plot(np.array(df['Day sin'])[:25])\n",
    "plt.plot(np.array(df['Day cos'])[:25])\n",
    "plt.xlabel('Time [h]')\n",
    "plt.title('Time of day signal')"
   ]
  },
  {
   "cell_type": "markdown",
   "metadata": {},
   "source": [
    "### Evaluate the most important frequency feacutes"
   ]
  },
  {
   "cell_type": "code",
   "execution_count": 11,
   "metadata": {},
   "outputs": [
    {
     "data": {
      "image/png": "[encoded data removed]",
      "text/plain": [
       "<Figure size 576x432 with 1 Axes>"
      ]
     },
     "metadata": {
      "needs_background": "light"
     },
     "output_type": "display_data"
    }
   ],
   "source": [
    "fft = tf.signal.rfft(df['temp'])\n",
    "f_per_dataset = np.arange(0, len(fft))\n",
    "\n",
    "n_samples_h = len(df['temp'])\n",
    "hours_per_year = 24*365.2524\n",
    "years_per_dataset = n_samples_h/(hours_per_year)\n",
    "\n",
    "f_per_year = f_per_dataset/years_per_dataset\n",
    "plt.step(f_per_year, np.abs(fft))\n",
    "plt.xscale('log')\n",
    "plt.ylim(0, 400000)\n",
    "plt.xlim([0.1, max(plt.xlim())])\n",
    "plt.xticks([1, 365.2524], labels=['1/Year', '1/day'])\n",
    "_ = plt.xlabel('Frequency (log scale)')"
   ]
  },
  {
   "cell_type": "markdown",
   "metadata": {},
   "source": [
    "> The highest peaks at frequencies near 1/year"
   ]
  },
  {
   "cell_type": "markdown",
   "metadata": {},
   "source": [
    "### Change Categorical value to Numeric value"
   ]
  },
  {
   "cell_type": "markdown",
   "metadata": {},
   "source": [
    "   #### `holiday` values transform to numeric values:"
   ]
  },
  {
   "cell_type": "code",
   "execution_count": 13,
   "metadata": {},
   "outputs": [
    {
     "name": "stdout",
     "output_type": "stream",
     "text": [
      "holiday categories: ['None' 'Columbus Day' 'Veterans Day' 'Thanksgiving Day' 'Christmas Day'\n",
      " 'New Years Day' 'Washingtons Birthday' 'Memorial Day' 'Independence Day'\n",
      " 'State Fair' 'Labor Day' 'Martin Luther King Jr Day']\n"
     ]
    }
   ],
   "source": [
    "print(\"holiday categories:\", df.holiday.unique())"
   ]
  },
  {
   "cell_type": "code",
   "execution_count": 14,
   "metadata": {},
   "outputs": [],
   "source": [
    "l_encoder = LabelEncoder()\n",
    "holiday_labels = l_encoder.fit_transform(df['holiday'])"
   ]
  },
  {
   "cell_type": "code",
   "execution_count": 15,
   "metadata": {},
   "outputs": [
    {
     "data": {
      "text/plain": [
       "{0: 'Christmas Day',\n",
       " 1: 'Columbus Day',\n",
       " 2: 'Independence Day',\n",
       " 3: 'Labor Day',\n",
       " 4: 'Martin Luther King Jr Day',\n",
       " 5: 'Memorial Day',\n",
       " 6: 'New Years Day',\n",
       " 7: 'None',\n",
       " 8: 'State Fair',\n",
       " 9: 'Thanksgiving Day',\n",
       " 10: 'Veterans Day',\n",
       " 11: 'Washingtons Birthday'}"
      ]
     },
     "execution_count": 15,
     "metadata": {},
     "output_type": "execute_result"
    }
   ],
   "source": [
    "{index: label for index , label in enumerate(l_encoder.classes_)}"
   ]
  },
  {
   "cell_type": "code",
   "execution_count": 16,
   "metadata": {},
   "outputs": [],
   "source": [
    "df['holiday'] = l_encoder.fit_transform(df['holiday'])"
   ]
  },
  {
   "cell_type": "markdown",
   "metadata": {},
   "source": [
    "#### `weather_main` categorical values transform to numeric values:"
   ]
  },
  {
   "cell_type": "code",
   "execution_count": 17,
   "metadata": {},
   "outputs": [
    {
     "name": "stdout",
     "output_type": "stream",
     "text": [
      "weather categories: ['Clouds' 'Clear' 'Rain' 'Drizzle' 'Mist' 'Haze' 'Fog' 'Thunderstorm'\n",
      " 'Snow' 'Squall' 'Smoke']\n"
     ]
    }
   ],
   "source": [
    "print(\"weather categories:\", df.weather_main.unique())"
   ]
  },
  {
   "cell_type": "code",
   "execution_count": 18,
   "metadata": {},
   "outputs": [],
   "source": [
    "weather_main = l_encoder.fit_transform(df['weather_main'])"
   ]
  },
  {
   "cell_type": "code",
   "execution_count": 19,
   "metadata": {},
   "outputs": [
    {
     "data": {
      "text/plain": [
       "{0: 'Clear',\n",
       " 1: 'Clouds',\n",
       " 2: 'Drizzle',\n",
       " 3: 'Fog',\n",
       " 4: 'Haze',\n",
       " 5: 'Mist',\n",
       " 6: 'Rain',\n",
       " 7: 'Smoke',\n",
       " 8: 'Snow',\n",
       " 9: 'Squall',\n",
       " 10: 'Thunderstorm'}"
      ]
     },
     "execution_count": 19,
     "metadata": {},
     "output_type": "execute_result"
    }
   ],
   "source": [
    "{index: label for index , label in enumerate(l_encoder.classes_)}"
   ]
  },
  {
   "cell_type": "code",
   "execution_count": 20,
   "metadata": {},
   "outputs": [],
   "source": [
    "df['weather_main'] = l_encoder.fit_transform(df['weather_main'])"
   ]
  },
  {
   "cell_type": "markdown",
   "metadata": {},
   "source": [
    "#### `weather_description` categorical values transform to numeric values:"
   ]
  },
  {
   "cell_type": "code",
   "execution_count": 21,
   "metadata": {},
   "outputs": [
    {
     "name": "stdout",
     "output_type": "stream",
     "text": [
      "\n",
      "weather description categories: ['scattered clouds' 'broken clouds' 'overcast clouds' 'sky is clear'\n",
      " 'few clouds' 'light rain' 'light intensity drizzle' 'mist' 'haze' 'fog'\n",
      " 'proximity shower rain' 'drizzle' 'moderate rain' 'heavy intensity rain'\n",
      " 'proximity thunderstorm' 'thunderstorm with light rain'\n",
      " 'proximity thunderstorm with rain' 'heavy snow' 'heavy intensity drizzle'\n",
      " 'snow' 'thunderstorm with heavy rain' 'freezing rain' 'shower snow'\n",
      " 'light rain and snow' 'light intensity shower rain' 'SQUALLS'\n",
      " 'thunderstorm with rain' 'proximity thunderstorm with drizzle'\n",
      " 'thunderstorm' 'Sky is Clear' 'very heavy rain'\n",
      " 'thunderstorm with light drizzle' 'light snow'\n",
      " 'thunderstorm with drizzle' 'smoke' 'shower drizzle' 'light shower snow'\n",
      " 'sleet']\n"
     ]
    }
   ],
   "source": [
    "print(\"\\nweather description categories:\", df.weather_description.unique())"
   ]
  },
  {
   "cell_type": "code",
   "execution_count": 22,
   "metadata": {},
   "outputs": [
    {
     "data": {
      "text/plain": [
       "{0: 'SQUALLS',\n",
       " 1: 'Sky is Clear',\n",
       " 2: 'broken clouds',\n",
       " 3: 'drizzle',\n",
       " 4: 'few clouds',\n",
       " 5: 'fog',\n",
       " 6: 'freezing rain',\n",
       " 7: 'haze',\n",
       " 8: 'heavy intensity drizzle',\n",
       " 9: 'heavy intensity rain',\n",
       " 10: 'heavy snow',\n",
       " 11: 'light intensity drizzle',\n",
       " 12: 'light intensity shower rain',\n",
       " 13: 'light rain',\n",
       " 14: 'light rain and snow',\n",
       " 15: 'light shower snow',\n",
       " 16: 'light snow',\n",
       " 17: 'mist',\n",
       " 18: 'moderate rain',\n",
       " 19: 'overcast clouds',\n",
       " 20: 'proximity shower rain',\n",
       " 21: 'proximity thunderstorm',\n",
       " 22: 'proximity thunderstorm with drizzle',\n",
       " 23: 'proximity thunderstorm with rain',\n",
       " 24: 'scattered clouds',\n",
       " 25: 'shower drizzle',\n",
       " 26: 'shower snow',\n",
       " 27: 'sky is clear',\n",
       " 28: 'sleet',\n",
       " 29: 'smoke',\n",
       " 30: 'snow',\n",
       " 31: 'thunderstorm',\n",
       " 32: 'thunderstorm with drizzle',\n",
       " 33: 'thunderstorm with heavy rain',\n",
       " 34: 'thunderstorm with light drizzle',\n",
       " 35: 'thunderstorm with light rain',\n",
       " 36: 'thunderstorm with rain',\n",
       " 37: 'very heavy rain'}"
      ]
     },
     "execution_count": 22,
     "metadata": {},
     "output_type": "execute_result"
    }
   ],
   "source": [
    "weather_description = l_encoder.fit_transform(df['weather_description'])\n",
    "{index: label for index , label in enumerate(l_encoder.classes_)}"
   ]
  },
  {
   "cell_type": "code",
   "execution_count": 23,
   "metadata": {},
   "outputs": [],
   "source": [
    "df['weather_description'] = l_encoder.fit_transform(df['weather_description'])"
   ]
  },
  {
   "cell_type": "code",
   "execution_count": 24,
   "metadata": {},
   "outputs": [
    {
     "data": {
      "text/html": [
       "<div>\n",
       "<style scoped>\n",
       "    .dataframe tbody tr th:only-of-type {\n",
       "        vertical-align: middle;\n",
       "    }\n",
       "\n",
       "    .dataframe tbody tr th {\n",
       "        vertical-align: top;\n",
       "    }\n",
       "\n",
       "    .dataframe thead th {\n",
       "        text-align: right;\n",
       "    }\n",
       "</style>\n",
       "<table border=\"1\" class=\"dataframe\">\n",
       "  <thead>\n",
       "    <tr style=\"text-align: right;\">\n",
       "      <th></th>\n",
       "      <th>holiday</th>\n",
       "      <th>temp</th>\n",
       "      <th>rain_1h</th>\n",
       "      <th>snow_1h</th>\n",
       "      <th>clouds_all</th>\n",
       "      <th>weather_main</th>\n",
       "      <th>weather_description</th>\n",
       "      <th>traffic_volume</th>\n",
       "      <th>Day sin</th>\n",
       "      <th>Day cos</th>\n",
       "      <th>Year sin</th>\n",
       "      <th>Year cos</th>\n",
       "    </tr>\n",
       "  </thead>\n",
       "  <tbody>\n",
       "    <tr>\n",
       "      <th>0</th>\n",
       "      <td>7</td>\n",
       "      <td>288.28</td>\n",
       "      <td>0.0</td>\n",
       "      <td>0.0</td>\n",
       "      <td>40</td>\n",
       "      <td>1</td>\n",
       "      <td>24</td>\n",
       "      <td>5545</td>\n",
       "      <td>-0.500000</td>\n",
       "      <td>-8.660254e-01</td>\n",
       "      <td>-0.999682</td>\n",
       "      <td>0.025224</td>\n",
       "    </tr>\n",
       "    <tr>\n",
       "      <th>1</th>\n",
       "      <td>7</td>\n",
       "      <td>289.36</td>\n",
       "      <td>0.0</td>\n",
       "      <td>0.0</td>\n",
       "      <td>75</td>\n",
       "      <td>1</td>\n",
       "      <td>2</td>\n",
       "      <td>4516</td>\n",
       "      <td>-0.707107</td>\n",
       "      <td>-7.071068e-01</td>\n",
       "      <td>-0.999663</td>\n",
       "      <td>0.025941</td>\n",
       "    </tr>\n",
       "    <tr>\n",
       "      <th>2</th>\n",
       "      <td>7</td>\n",
       "      <td>289.58</td>\n",
       "      <td>0.0</td>\n",
       "      <td>0.0</td>\n",
       "      <td>90</td>\n",
       "      <td>1</td>\n",
       "      <td>19</td>\n",
       "      <td>4767</td>\n",
       "      <td>-0.866025</td>\n",
       "      <td>-5.000000e-01</td>\n",
       "      <td>-0.999645</td>\n",
       "      <td>0.026658</td>\n",
       "    </tr>\n",
       "    <tr>\n",
       "      <th>3</th>\n",
       "      <td>7</td>\n",
       "      <td>290.13</td>\n",
       "      <td>0.0</td>\n",
       "      <td>0.0</td>\n",
       "      <td>90</td>\n",
       "      <td>1</td>\n",
       "      <td>19</td>\n",
       "      <td>5026</td>\n",
       "      <td>-0.965926</td>\n",
       "      <td>-2.588190e-01</td>\n",
       "      <td>-0.999625</td>\n",
       "      <td>0.027374</td>\n",
       "    </tr>\n",
       "    <tr>\n",
       "      <th>4</th>\n",
       "      <td>7</td>\n",
       "      <td>291.14</td>\n",
       "      <td>0.0</td>\n",
       "      <td>0.0</td>\n",
       "      <td>75</td>\n",
       "      <td>1</td>\n",
       "      <td>2</td>\n",
       "      <td>4918</td>\n",
       "      <td>-1.000000</td>\n",
       "      <td>5.575167e-13</td>\n",
       "      <td>-0.999605</td>\n",
       "      <td>0.028091</td>\n",
       "    </tr>\n",
       "    <tr>\n",
       "      <th>5</th>\n",
       "      <td>7</td>\n",
       "      <td>291.72</td>\n",
       "      <td>0.0</td>\n",
       "      <td>0.0</td>\n",
       "      <td>1</td>\n",
       "      <td>0</td>\n",
       "      <td>27</td>\n",
       "      <td>5181</td>\n",
       "      <td>-0.965926</td>\n",
       "      <td>2.588190e-01</td>\n",
       "      <td>-0.999585</td>\n",
       "      <td>0.028807</td>\n",
       "    </tr>\n",
       "    <tr>\n",
       "      <th>6</th>\n",
       "      <td>7</td>\n",
       "      <td>293.17</td>\n",
       "      <td>0.0</td>\n",
       "      <td>0.0</td>\n",
       "      <td>1</td>\n",
       "      <td>0</td>\n",
       "      <td>27</td>\n",
       "      <td>5584</td>\n",
       "      <td>-0.866025</td>\n",
       "      <td>5.000000e-01</td>\n",
       "      <td>-0.999564</td>\n",
       "      <td>0.029524</td>\n",
       "    </tr>\n",
       "    <tr>\n",
       "      <th>7</th>\n",
       "      <td>7</td>\n",
       "      <td>293.86</td>\n",
       "      <td>0.0</td>\n",
       "      <td>0.0</td>\n",
       "      <td>1</td>\n",
       "      <td>0</td>\n",
       "      <td>27</td>\n",
       "      <td>6015</td>\n",
       "      <td>-0.707107</td>\n",
       "      <td>7.071068e-01</td>\n",
       "      <td>-0.999543</td>\n",
       "      <td>0.030240</td>\n",
       "    </tr>\n",
       "    <tr>\n",
       "      <th>8</th>\n",
       "      <td>7</td>\n",
       "      <td>294.14</td>\n",
       "      <td>0.0</td>\n",
       "      <td>0.0</td>\n",
       "      <td>20</td>\n",
       "      <td>1</td>\n",
       "      <td>4</td>\n",
       "      <td>5791</td>\n",
       "      <td>-0.500000</td>\n",
       "      <td>8.660254e-01</td>\n",
       "      <td>-0.999521</td>\n",
       "      <td>0.030956</td>\n",
       "    </tr>\n",
       "    <tr>\n",
       "      <th>9</th>\n",
       "      <td>7</td>\n",
       "      <td>293.10</td>\n",
       "      <td>0.0</td>\n",
       "      <td>0.0</td>\n",
       "      <td>20</td>\n",
       "      <td>1</td>\n",
       "      <td>4</td>\n",
       "      <td>4770</td>\n",
       "      <td>-0.258819</td>\n",
       "      <td>9.659258e-01</td>\n",
       "      <td>-0.999498</td>\n",
       "      <td>0.031673</td>\n",
       "    </tr>\n",
       "  </tbody>\n",
       "</table>\n",
       "</div>"
      ],
      "text/plain": [
       "   holiday    temp  rain_1h  snow_1h  clouds_all  weather_main  \\\n",
       "0        7  288.28      0.0      0.0          40             1   \n",
       "1        7  289.36      0.0      0.0          75             1   \n",
       "2        7  289.58      0.0      0.0          90             1   \n",
       "3        7  290.13      0.0      0.0          90             1   \n",
       "4        7  291.14      0.0      0.0          75             1   \n",
       "5        7  291.72      0.0      0.0           1             0   \n",
       "6        7  293.17      0.0      0.0           1             0   \n",
       "7        7  293.86      0.0      0.0           1             0   \n",
       "8        7  294.14      0.0      0.0          20             1   \n",
       "9        7  293.10      0.0      0.0          20             1   \n",
       "\n",
       "   weather_description  traffic_volume   Day sin       Day cos  Year sin  \\\n",
       "0                   24            5545 -0.500000 -8.660254e-01 -0.999682   \n",
       "1                    2            4516 -0.707107 -7.071068e-01 -0.999663   \n",
       "2                   19            4767 -0.866025 -5.000000e-01 -0.999645   \n",
       "3                   19            5026 -0.965926 -2.588190e-01 -0.999625   \n",
       "4                    2            4918 -1.000000  5.575167e-13 -0.999605   \n",
       "5                   27            5181 -0.965926  2.588190e-01 -0.999585   \n",
       "6                   27            5584 -0.866025  5.000000e-01 -0.999564   \n",
       "7                   27            6015 -0.707107  7.071068e-01 -0.999543   \n",
       "8                    4            5791 -0.500000  8.660254e-01 -0.999521   \n",
       "9                    4            4770 -0.258819  9.659258e-01 -0.999498   \n",
       "\n",
       "   Year cos  \n",
       "0  0.025224  \n",
       "1  0.025941  \n",
       "2  0.026658  \n",
       "3  0.027374  \n",
       "4  0.028091  \n",
       "5  0.028807  \n",
       "6  0.029524  \n",
       "7  0.030240  \n",
       "8  0.030956  \n",
       "9  0.031673  "
      ]
     },
     "execution_count": 24,
     "metadata": {},
     "output_type": "execute_result"
    }
   ],
   "source": [
    "df.head(10)"
   ]
  },
  {
   "cell_type": "markdown",
   "metadata": {},
   "source": [
    "### Split and Preprocessing the data"
   ]
  },
  {
   "cell_type": "code",
   "execution_count": 25,
   "metadata": {},
   "outputs": [
    {
     "data": {
      "text/plain": [
       "((33742, 12), (9641, 12), (4821, 12))"
      ]
     },
     "execution_count": 25,
     "metadata": {},
     "output_type": "execute_result"
    }
   ],
   "source": [
    "column_indices = {name: i for i, name in enumerate(df.columns)}\n",
    "\n",
    "n = len(df)\n",
    "train_df = df[0:int(n*0.7)]\n",
    "val_df = df[int(n*0.7):int(n*0.9)]\n",
    "test_df = df[int(n*0.9):]\n",
    "\n",
    "num_features = df.shape[1]\n",
    "\n",
    "train_df.shape, val_df.shape, test_df.shape"
   ]
  },
  {
   "cell_type": "code",
   "execution_count": 26,
   "metadata": {},
   "outputs": [
    {
     "data": {
      "text/plain": [
       "((33742, 12), (9641, 12), (4821, 12))"
      ]
     },
     "execution_count": 26,
     "metadata": {},
     "output_type": "execute_result"
    }
   ],
   "source": [
    "train_mean = train_df.mean()\n",
    "train_std = train_df.std()\n",
    "\n",
    "train_df = (train_df - train_mean) / train_std\n",
    "val_df = (val_df - train_mean) / train_std\n",
    "test_df = (test_df - train_mean) / train_std\n",
    "\n",
    "train_df.shape, val_df.shape, test_df.shape"
   ]
  },
  {
   "cell_type": "code",
   "execution_count": 27,
   "metadata": {},
   "outputs": [
    {
     "data": {
      "text/html": [
       "<div>\n",
       "<style scoped>\n",
       "    .dataframe tbody tr th:only-of-type {\n",
       "        vertical-align: middle;\n",
       "    }\n",
       "\n",
       "    .dataframe tbody tr th {\n",
       "        vertical-align: top;\n",
       "    }\n",
       "\n",
       "    .dataframe thead th {\n",
       "        text-align: right;\n",
       "    }\n",
       "</style>\n",
       "<table border=\"1\" class=\"dataframe\">\n",
       "  <thead>\n",
       "    <tr style=\"text-align: right;\">\n",
       "      <th></th>\n",
       "      <th>holiday</th>\n",
       "      <th>temp</th>\n",
       "      <th>rain_1h</th>\n",
       "      <th>snow_1h</th>\n",
       "      <th>clouds_all</th>\n",
       "      <th>weather_main</th>\n",
       "      <th>weather_description</th>\n",
       "      <th>traffic_volume</th>\n",
       "      <th>Day sin</th>\n",
       "      <th>Day cos</th>\n",
       "      <th>Year sin</th>\n",
       "      <th>Year cos</th>\n",
       "    </tr>\n",
       "  </thead>\n",
       "  <tbody>\n",
       "    <tr>\n",
       "      <th>43383</th>\n",
       "      <td>0.01425</td>\n",
       "      <td>-0.257736</td>\n",
       "      <td>-0.008384</td>\n",
       "      <td>-0.032549</td>\n",
       "      <td>-1.272123</td>\n",
       "      <td>-0.919844</td>\n",
       "      <td>1.215586</td>\n",
       "      <td>0.993964</td>\n",
       "      <td>-1.382719</td>\n",
       "      <td>0.382176</td>\n",
       "      <td>1.298589</td>\n",
       "      <td>-0.433937</td>\n",
       "    </tr>\n",
       "    <tr>\n",
       "      <th>43384</th>\n",
       "      <td>0.01425</td>\n",
       "      <td>-0.185437</td>\n",
       "      <td>-0.008384</td>\n",
       "      <td>-0.032549</td>\n",
       "      <td>-1.272123</td>\n",
       "      <td>-0.919844</td>\n",
       "      <td>1.215586</td>\n",
       "      <td>1.307275</td>\n",
       "      <td>-1.241186</td>\n",
       "      <td>0.722722</td>\n",
       "      <td>1.298312</td>\n",
       "      <td>-0.434905</td>\n",
       "    </tr>\n",
       "    <tr>\n",
       "      <th>43385</th>\n",
       "      <td>0.01425</td>\n",
       "      <td>-0.131771</td>\n",
       "      <td>-0.008384</td>\n",
       "      <td>-0.032549</td>\n",
       "      <td>-1.169220</td>\n",
       "      <td>-0.919844</td>\n",
       "      <td>1.215586</td>\n",
       "      <td>1.715483</td>\n",
       "      <td>-1.016039</td>\n",
       "      <td>1.015156</td>\n",
       "      <td>1.298035</td>\n",
       "      <td>-0.435874</td>\n",
       "    </tr>\n",
       "    <tr>\n",
       "      <th>43386</th>\n",
       "      <td>0.01425</td>\n",
       "      <td>-0.091521</td>\n",
       "      <td>-0.008384</td>\n",
       "      <td>-0.032549</td>\n",
       "      <td>-1.169220</td>\n",
       "      <td>-0.919844</td>\n",
       "      <td>1.215586</td>\n",
       "      <td>1.524685</td>\n",
       "      <td>-0.722621</td>\n",
       "      <td>1.239548</td>\n",
       "      <td>1.297757</td>\n",
       "      <td>-0.436842</td>\n",
       "    </tr>\n",
       "    <tr>\n",
       "      <th>43387</th>\n",
       "      <td>0.01425</td>\n",
       "      <td>-0.062453</td>\n",
       "      <td>-0.008384</td>\n",
       "      <td>-0.032549</td>\n",
       "      <td>-0.268819</td>\n",
       "      <td>-0.554707</td>\n",
       "      <td>0.885282</td>\n",
       "      <td>0.796639</td>\n",
       "      <td>-0.380929</td>\n",
       "      <td>1.380607</td>\n",
       "      <td>1.297478</td>\n",
       "      <td>-0.437810</td>\n",
       "    </tr>\n",
       "    <tr>\n",
       "      <th>...</th>\n",
       "      <td>...</td>\n",
       "      <td>...</td>\n",
       "      <td>...</td>\n",
       "      <td>...</td>\n",
       "      <td>...</td>\n",
       "      <td>...</td>\n",
       "      <td>...</td>\n",
       "      <td>...</td>\n",
       "      <td>...</td>\n",
       "      <td>...</td>\n",
       "      <td>...</td>\n",
       "      <td>...</td>\n",
       "    </tr>\n",
       "    <tr>\n",
       "      <th>48199</th>\n",
       "      <td>0.01425</td>\n",
       "      <td>0.252088</td>\n",
       "      <td>-0.008384</td>\n",
       "      <td>-0.032549</td>\n",
       "      <td>0.631582</td>\n",
       "      <td>-0.554707</td>\n",
       "      <td>-1.536949</td>\n",
       "      <td>0.151942</td>\n",
       "      <td>-0.014249</td>\n",
       "      <td>1.428719</td>\n",
       "      <td>-1.512847</td>\n",
       "      <td>-0.070010</td>\n",
       "    </tr>\n",
       "    <tr>\n",
       "      <th>48200</th>\n",
       "      <td>0.01425</td>\n",
       "      <td>0.200659</td>\n",
       "      <td>-0.008384</td>\n",
       "      <td>-0.032549</td>\n",
       "      <td>1.017468</td>\n",
       "      <td>-0.554707</td>\n",
       "      <td>0.334775</td>\n",
       "      <td>-0.230659</td>\n",
       "      <td>0.352432</td>\n",
       "      <td>1.380607</td>\n",
       "      <td>-1.512857</td>\n",
       "      <td>-0.069004</td>\n",
       "    </tr>\n",
       "    <tr>\n",
       "      <th>48201</th>\n",
       "      <td>0.01425</td>\n",
       "      <td>0.198423</td>\n",
       "      <td>-0.008384</td>\n",
       "      <td>-0.032549</td>\n",
       "      <td>1.017468</td>\n",
       "      <td>2.731527</td>\n",
       "      <td>0.554977</td>\n",
       "      <td>-0.542965</td>\n",
       "      <td>0.694124</td>\n",
       "      <td>1.239548</td>\n",
       "      <td>-1.512866</td>\n",
       "      <td>-0.067998</td>\n",
       "    </tr>\n",
       "    <tr>\n",
       "      <th>48202</th>\n",
       "      <td>0.01425</td>\n",
       "      <td>0.150720</td>\n",
       "      <td>-0.008384</td>\n",
       "      <td>-0.032549</td>\n",
       "      <td>1.017468</td>\n",
       "      <td>-0.554707</td>\n",
       "      <td>0.334775</td>\n",
       "      <td>-0.898955</td>\n",
       "      <td>0.987541</td>\n",
       "      <td>1.015156</td>\n",
       "      <td>-1.512874</td>\n",
       "      <td>-0.066992</td>\n",
       "    </tr>\n",
       "    <tr>\n",
       "      <th>48203</th>\n",
       "      <td>0.01425</td>\n",
       "      <td>0.152956</td>\n",
       "      <td>-0.008384</td>\n",
       "      <td>-0.032549</td>\n",
       "      <td>1.017468</td>\n",
       "      <td>-0.554707</td>\n",
       "      <td>0.334775</td>\n",
       "      <td>-1.147997</td>\n",
       "      <td>1.212688</td>\n",
       "      <td>0.722722</td>\n",
       "      <td>-1.512882</td>\n",
       "      <td>-0.065986</td>\n",
       "    </tr>\n",
       "  </tbody>\n",
       "</table>\n",
       "<p>4821 rows × 12 columns</p>\n",
       "</div>"
      ],
      "text/plain": [
       "       holiday      temp   rain_1h   snow_1h  clouds_all  weather_main  \\\n",
       "43383  0.01425 -0.257736 -0.008384 -0.032549   -1.272123     -0.919844   \n",
       "43384  0.01425 -0.185437 -0.008384 -0.032549   -1.272123     -0.919844   \n",
       "43385  0.01425 -0.131771 -0.008384 -0.032549   -1.169220     -0.919844   \n",
       "43386  0.01425 -0.091521 -0.008384 -0.032549   -1.169220     -0.919844   \n",
       "43387  0.01425 -0.062453 -0.008384 -0.032549   -0.268819     -0.554707   \n",
       "...        ...       ...       ...       ...         ...           ...   \n",
       "48199  0.01425  0.252088 -0.008384 -0.032549    0.631582     -0.554707   \n",
       "48200  0.01425  0.200659 -0.008384 -0.032549    1.017468     -0.554707   \n",
       "48201  0.01425  0.198423 -0.008384 -0.032549    1.017468      2.731527   \n",
       "48202  0.01425  0.150720 -0.008384 -0.032549    1.017468     -0.554707   \n",
       "48203  0.01425  0.152956 -0.008384 -0.032549    1.017468     -0.554707   \n",
       "\n",
       "       weather_description  traffic_volume   Day sin   Day cos  Year sin  \\\n",
       "43383             1.215586        0.993964 -1.382719  0.382176  1.298589   \n",
       "43384             1.215586        1.307275 -1.241186  0.722722  1.298312   \n",
       "43385             1.215586        1.715483 -1.016039  1.015156  1.298035   \n",
       "43386             1.215586        1.524685 -0.722621  1.239548  1.297757   \n",
       "43387             0.885282        0.796639 -0.380929  1.380607  1.297478   \n",
       "...                    ...             ...       ...       ...       ...   \n",
       "48199            -1.536949        0.151942 -0.014249  1.428719 -1.512847   \n",
       "48200             0.334775       -0.230659  0.352432  1.380607 -1.512857   \n",
       "48201             0.554977       -0.542965  0.694124  1.239548 -1.512866   \n",
       "48202             0.334775       -0.898955  0.987541  1.015156 -1.512874   \n",
       "48203             0.334775       -1.147997  1.212688  0.722722 -1.512882   \n",
       "\n",
       "       Year cos  \n",
       "43383 -0.433937  \n",
       "43384 -0.434905  \n",
       "43385 -0.435874  \n",
       "43386 -0.436842  \n",
       "43387 -0.437810  \n",
       "...         ...  \n",
       "48199 -0.070010  \n",
       "48200 -0.069004  \n",
       "48201 -0.067998  \n",
       "48202 -0.066992  \n",
       "48203 -0.065986  \n",
       "\n",
       "[4821 rows x 12 columns]"
      ]
     },
     "execution_count": 27,
     "metadata": {},
     "output_type": "execute_result"
    }
   ],
   "source": [
    "test_df"
   ]
  },
  {
   "cell_type": "code",
   "execution_count": 28,
   "metadata": {},
   "outputs": [
    {
     "data": {
      "text/html": [
       "<div>\n",
       "<style scoped>\n",
       "    .dataframe tbody tr th:only-of-type {\n",
       "        vertical-align: middle;\n",
       "    }\n",
       "\n",
       "    .dataframe tbody tr th {\n",
       "        vertical-align: top;\n",
       "    }\n",
       "\n",
       "    .dataframe thead th {\n",
       "        text-align: right;\n",
       "    }\n",
       "</style>\n",
       "<table border=\"1\" class=\"dataframe\">\n",
       "  <thead>\n",
       "    <tr style=\"text-align: right;\">\n",
       "      <th></th>\n",
       "      <th>holiday</th>\n",
       "      <th>temp</th>\n",
       "      <th>rain_1h</th>\n",
       "      <th>snow_1h</th>\n",
       "      <th>clouds_all</th>\n",
       "      <th>weather_main</th>\n",
       "      <th>weather_description</th>\n",
       "      <th>traffic_volume</th>\n",
       "      <th>Day sin</th>\n",
       "      <th>Day cos</th>\n",
       "      <th>Year sin</th>\n",
       "      <th>Year cos</th>\n",
       "    </tr>\n",
       "  </thead>\n",
       "  <tbody>\n",
       "    <tr>\n",
       "      <th>43391</th>\n",
       "      <td>0.01425</td>\n",
       "      <td>-0.312893</td>\n",
       "      <td>-0.008384</td>\n",
       "      <td>-0.032549</td>\n",
       "      <td>-1.272123</td>\n",
       "      <td>-0.919844</td>\n",
       "      <td>1.215586</td>\n",
       "      <td>0.026919</td>\n",
       "      <td>0.987541</td>\n",
       "      <td>1.015156</td>\n",
       "      <td>1.296356</td>\n",
       "      <td>-0.441681</td>\n",
       "    </tr>\n",
       "    <tr>\n",
       "      <th>43392</th>\n",
       "      <td>0.01425</td>\n",
       "      <td>-0.334508</td>\n",
       "      <td>-0.008384</td>\n",
       "      <td>-0.032549</td>\n",
       "      <td>-1.272123</td>\n",
       "      <td>-0.919844</td>\n",
       "      <td>1.215586</td>\n",
       "      <td>-0.975776</td>\n",
       "      <td>1.212688</td>\n",
       "      <td>0.722722</td>\n",
       "      <td>1.296073</td>\n",
       "      <td>-0.442648</td>\n",
       "    </tr>\n",
       "    <tr>\n",
       "      <th>43393</th>\n",
       "      <td>0.01425</td>\n",
       "      <td>-0.332272</td>\n",
       "      <td>-0.008384</td>\n",
       "      <td>-0.032549</td>\n",
       "      <td>1.017468</td>\n",
       "      <td>-0.554707</td>\n",
       "      <td>0.334775</td>\n",
       "      <td>-1.212265</td>\n",
       "      <td>1.354222</td>\n",
       "      <td>0.382176</td>\n",
       "      <td>1.295790</td>\n",
       "      <td>-0.443615</td>\n",
       "    </tr>\n",
       "    <tr>\n",
       "      <th>43394</th>\n",
       "      <td>0.01425</td>\n",
       "      <td>-0.360596</td>\n",
       "      <td>-0.008384</td>\n",
       "      <td>-0.032549</td>\n",
       "      <td>-1.272123</td>\n",
       "      <td>-0.919844</td>\n",
       "      <td>1.215586</td>\n",
       "      <td>-1.328753</td>\n",
       "      <td>1.402496</td>\n",
       "      <td>0.016725</td>\n",
       "      <td>1.295507</td>\n",
       "      <td>-0.444582</td>\n",
       "    </tr>\n",
       "    <tr>\n",
       "      <th>43395</th>\n",
       "      <td>0.01425</td>\n",
       "      <td>-0.418733</td>\n",
       "      <td>-0.008384</td>\n",
       "      <td>-0.032549</td>\n",
       "      <td>-1.272123</td>\n",
       "      <td>-0.919844</td>\n",
       "      <td>1.215586</td>\n",
       "      <td>-1.410595</td>\n",
       "      <td>1.354222</td>\n",
       "      <td>-0.348725</td>\n",
       "      <td>1.295222</td>\n",
       "      <td>-0.445548</td>\n",
       "    </tr>\n",
       "    <tr>\n",
       "      <th>...</th>\n",
       "      <td>...</td>\n",
       "      <td>...</td>\n",
       "      <td>...</td>\n",
       "      <td>...</td>\n",
       "      <td>...</td>\n",
       "      <td>...</td>\n",
       "      <td>...</td>\n",
       "      <td>...</td>\n",
       "      <td>...</td>\n",
       "      <td>...</td>\n",
       "      <td>...</td>\n",
       "      <td>...</td>\n",
       "    </tr>\n",
       "    <tr>\n",
       "      <th>48199</th>\n",
       "      <td>0.01425</td>\n",
       "      <td>0.252088</td>\n",
       "      <td>-0.008384</td>\n",
       "      <td>-0.032549</td>\n",
       "      <td>0.631582</td>\n",
       "      <td>-0.554707</td>\n",
       "      <td>-1.536949</td>\n",
       "      <td>0.151942</td>\n",
       "      <td>-0.014249</td>\n",
       "      <td>1.428719</td>\n",
       "      <td>-1.512847</td>\n",
       "      <td>-0.070010</td>\n",
       "    </tr>\n",
       "    <tr>\n",
       "      <th>48200</th>\n",
       "      <td>0.01425</td>\n",
       "      <td>0.200659</td>\n",
       "      <td>-0.008384</td>\n",
       "      <td>-0.032549</td>\n",
       "      <td>1.017468</td>\n",
       "      <td>-0.554707</td>\n",
       "      <td>0.334775</td>\n",
       "      <td>-0.230659</td>\n",
       "      <td>0.352432</td>\n",
       "      <td>1.380607</td>\n",
       "      <td>-1.512857</td>\n",
       "      <td>-0.069004</td>\n",
       "    </tr>\n",
       "    <tr>\n",
       "      <th>48201</th>\n",
       "      <td>0.01425</td>\n",
       "      <td>0.198423</td>\n",
       "      <td>-0.008384</td>\n",
       "      <td>-0.032549</td>\n",
       "      <td>1.017468</td>\n",
       "      <td>2.731527</td>\n",
       "      <td>0.554977</td>\n",
       "      <td>-0.542965</td>\n",
       "      <td>0.694124</td>\n",
       "      <td>1.239548</td>\n",
       "      <td>-1.512866</td>\n",
       "      <td>-0.067998</td>\n",
       "    </tr>\n",
       "    <tr>\n",
       "      <th>48202</th>\n",
       "      <td>0.01425</td>\n",
       "      <td>0.150720</td>\n",
       "      <td>-0.008384</td>\n",
       "      <td>-0.032549</td>\n",
       "      <td>1.017468</td>\n",
       "      <td>-0.554707</td>\n",
       "      <td>0.334775</td>\n",
       "      <td>-0.898955</td>\n",
       "      <td>0.987541</td>\n",
       "      <td>1.015156</td>\n",
       "      <td>-1.512874</td>\n",
       "      <td>-0.066992</td>\n",
       "    </tr>\n",
       "    <tr>\n",
       "      <th>48203</th>\n",
       "      <td>0.01425</td>\n",
       "      <td>0.152956</td>\n",
       "      <td>-0.008384</td>\n",
       "      <td>-0.032549</td>\n",
       "      <td>1.017468</td>\n",
       "      <td>-0.554707</td>\n",
       "      <td>0.334775</td>\n",
       "      <td>-1.147997</td>\n",
       "      <td>1.212688</td>\n",
       "      <td>0.722722</td>\n",
       "      <td>-1.512882</td>\n",
       "      <td>-0.065986</td>\n",
       "    </tr>\n",
       "  </tbody>\n",
       "</table>\n",
       "<p>4813 rows × 12 columns</p>\n",
       "</div>"
      ],
      "text/plain": [
       "       holiday      temp   rain_1h   snow_1h  clouds_all  weather_main  \\\n",
       "43391  0.01425 -0.312893 -0.008384 -0.032549   -1.272123     -0.919844   \n",
       "43392  0.01425 -0.334508 -0.008384 -0.032549   -1.272123     -0.919844   \n",
       "43393  0.01425 -0.332272 -0.008384 -0.032549    1.017468     -0.554707   \n",
       "43394  0.01425 -0.360596 -0.008384 -0.032549   -1.272123     -0.919844   \n",
       "43395  0.01425 -0.418733 -0.008384 -0.032549   -1.272123     -0.919844   \n",
       "...        ...       ...       ...       ...         ...           ...   \n",
       "48199  0.01425  0.252088 -0.008384 -0.032549    0.631582     -0.554707   \n",
       "48200  0.01425  0.200659 -0.008384 -0.032549    1.017468     -0.554707   \n",
       "48201  0.01425  0.198423 -0.008384 -0.032549    1.017468      2.731527   \n",
       "48202  0.01425  0.150720 -0.008384 -0.032549    1.017468     -0.554707   \n",
       "48203  0.01425  0.152956 -0.008384 -0.032549    1.017468     -0.554707   \n",
       "\n",
       "       weather_description  traffic_volume   Day sin   Day cos  Year sin  \\\n",
       "43391             1.215586        0.026919  0.987541  1.015156  1.296356   \n",
       "43392             1.215586       -0.975776  1.212688  0.722722  1.296073   \n",
       "43393             0.334775       -1.212265  1.354222  0.382176  1.295790   \n",
       "43394             1.215586       -1.328753  1.402496  0.016725  1.295507   \n",
       "43395             1.215586       -1.410595  1.354222 -0.348725  1.295222   \n",
       "...                    ...             ...       ...       ...       ...   \n",
       "48199            -1.536949        0.151942 -0.014249  1.428719 -1.512847   \n",
       "48200             0.334775       -0.230659  0.352432  1.380607 -1.512857   \n",
       "48201             0.554977       -0.542965  0.694124  1.239548 -1.512866   \n",
       "48202             0.334775       -0.898955  0.987541  1.015156 -1.512874   \n",
       "48203             0.334775       -1.147997  1.212688  0.722722 -1.512882   \n",
       "\n",
       "       Year cos  \n",
       "43391 -0.441681  \n",
       "43392 -0.442648  \n",
       "43393 -0.443615  \n",
       "43394 -0.444582  \n",
       "43395 -0.445548  \n",
       "...         ...  \n",
       "48199 -0.070010  \n",
       "48200 -0.069004  \n",
       "48201 -0.067998  \n",
       "48202 -0.066992  \n",
       "48203 -0.065986  \n",
       "\n",
       "[4813 rows x 12 columns]"
      ]
     },
     "execution_count": 28,
     "metadata": {},
     "output_type": "execute_result"
    }
   ],
   "source": [
    "test_df[8:]"
   ]
  },
  {
   "cell_type": "code",
   "execution_count": 29,
   "metadata": {},
   "outputs": [
    {
     "data": {
      "text/plain": [
       "RangeIndex(start=43391, stop=48204, step=1)"
      ]
     },
     "execution_count": 29,
     "metadata": {},
     "output_type": "execute_result"
    }
   ],
   "source": [
    "idx = test_df[8:].index\n",
    "idx"
   ]
  },
  {
   "cell_type": "markdown",
   "metadata": {},
   "source": [
    "### Data Windowing\n",
    "#### 1. Indexes and offsets"
   ]
  },
  {
   "cell_type": "code",
   "execution_count": 107,
   "metadata": {},
   "outputs": [],
   "source": [
    "class WindowGenerator():\n",
    "    def __init__(self, input_width, label_width, shift,\n",
    "               train_df=train_df, val_df=val_df, test_df=test_df,\n",
    "               label_columns=None):\n",
    "        # Store the raw data.\n",
    "        self.train_df = train_df\n",
    "        self.val_df = val_df\n",
    "        self.test_df = test_df\n",
    "\n",
    "        # Work out the label column indices.\n",
    "        self.label_columns = label_columns\n",
    "        if label_columns is not None:\n",
    "            self.label_columns_indices = {name: i for i, name in\n",
    "                                        enumerate(label_columns)}\n",
    "        self.column_indices = {name: i for i, name in\n",
    "                           enumerate(train_df.columns)}\n",
    "\n",
    "        # Work out the window parameters.\n",
    "        self.input_width = input_width\n",
    "        self.label_width = label_width\n",
    "        self.shift = shift\n",
    "\n",
    "        self.total_window_size = input_width + shift\n",
    "\n",
    "        self.input_slice = slice(0, input_width)\n",
    "        self.input_indices = np.arange(self.total_window_size)[self.input_slice]\n",
    "\n",
    "        self.label_start = self.total_window_size - self.label_width\n",
    "        self.labels_slice = slice(self.label_start, None)\n",
    "        self.label_indices = np.arange(self.total_window_size)[self.labels_slice]\n",
    "\n",
    "    def __repr__(self):\n",
    "        return '\\n'.join([\n",
    "            f'Total window size: {self.total_window_size}',\n",
    "            f'Input indices: {self.input_indices}',\n",
    "            f'Label indices: {self.label_indices}',\n",
    "            f'Label column name(s): {self.label_columns}'])"
   ]
  },
  {
   "cell_type": "markdown",
   "metadata": {},
   "source": [
    "#### 2. Split"
   ]
  },
  {
   "cell_type": "code",
   "execution_count": 108,
   "metadata": {},
   "outputs": [],
   "source": [
    "def split_window(self, features):\n",
    "    inputs = features[:, self.input_slice, :]\n",
    "    labels = features[:, self.labels_slice, :]\n",
    "    if self.label_columns is not None:\n",
    "        labels = tf.stack(\n",
    "            [labels[:, :, self.column_indices[name]] for name in self.label_columns],axis=-1)\n",
    "    \n",
    "    # Slicing doesn't preserve static shape information, so set the shapes\n",
    "    # manually. This way the `tf.data.Datasets` are easier to inspect.\n",
    "    inputs.set_shape([None, self.input_width, None])\n",
    "    labels.set_shape([None, self.label_width, None])\n",
    "\n",
    "    return inputs, labels\n",
    "\n",
    "WindowGenerator.split_window = split_window"
   ]
  },
  {
   "cell_type": "code",
   "execution_count": 109,
   "metadata": {},
   "outputs": [],
   "source": [
    "@property\n",
    "def train(self):\n",
    "    return self.make_dataset(self.train_df)\n",
    "\n",
    "@property\n",
    "def val(self):\n",
    "    return self.make_dataset(self.val_df)\n",
    "\n",
    "@property\n",
    "def test(self):\n",
    "    return self.make_dataset(self.test_df)\n",
    "\n",
    "@property\n",
    "def example(self):\n",
    "    \"\"\"Get and cache an example batch of `inputs, labels` for plotting.\"\"\"\n",
    "    result = getattr(self, '_example', None)\n",
    "    if result is None:\n",
    "        # No example batch was found, so get one from the `.train` dataset\n",
    "        result = next(iter(self.train))\n",
    "        # And cache it for next time\n",
    "        self._example = result\n",
    "    return result\n",
    "\n",
    "WindowGenerator.train = train\n",
    "WindowGenerator.val = val\n",
    "WindowGenerator.test = test\n",
    "WindowGenerator.example = example"
   ]
  },
  {
   "cell_type": "markdown",
   "metadata": {},
   "source": [
    "#### 3. Create Dataset"
   ]
  },
  {
   "cell_type": "code",
   "execution_count": 110,
   "metadata": {},
   "outputs": [],
   "source": [
    "def make_dataset(self, data):\n",
    "    data = np.array(data, dtype=np.float32)\n",
    "    ds = tf.keras.preprocessing.timeseries_dataset_from_array(\n",
    "        data=data,\n",
    "        targets=None,\n",
    "        sequence_length=self.total_window_size,\n",
    "        sequence_stride=1,\n",
    "        #shuffle=True,\n",
    "        shuffle=False,\n",
    "        batch_size=16) # batch_size: 1, 16, 32, 64, 128, 256\n",
    "    \n",
    "    ds = ds.map(self.split_window)\n",
    "\n",
    "    return ds\n",
    "\n",
    "WindowGenerator.make_dataset = make_dataset"
   ]
  },
  {
   "cell_type": "markdown",
   "metadata": {},
   "source": [
    "### Set up window"
   ]
  },
  {
   "cell_type": "code",
   "execution_count": 112,
   "metadata": {},
   "outputs": [
    {
     "data": {
      "text/plain": [
       "Total window size: 9\n",
       "Input indices: [0 1 2 3 4 5]\n",
       "Label indices: [8]\n",
       "Label column name(s): ['traffic_volume']"
      ]
     },
     "execution_count": 112,
     "metadata": {},
     "output_type": "execute_result"
    }
   ],
   "source": [
    "wide_window = WindowGenerator(\n",
    "    input_width=6, label_width=1, shift=3, # 6-hour input, 3-hour past the end of the window\n",
    "    label_columns=['traffic_volume'])\n",
    "\n",
    "wide_window"
   ]
  },
  {
   "cell_type": "code",
   "execution_count": 113,
   "metadata": {},
   "outputs": [
    {
     "name": "stdout",
     "output_type": "stream",
     "text": [
      "Inputs shape (batch, time, features): (16, 6, 12)\n",
      "Labels shape (batch, time, features): (16, 1, 1)\n"
     ]
    }
   ],
   "source": [
    "for example_inputs, example_labels in wide_window.train.take(1):\n",
    "    print(f'Inputs shape (batch, time, features): {example_inputs.shape}')\n",
    "    print(f'Labels shape (batch, time, features): {example_labels.shape}')"
   ]
  },
  {
   "cell_type": "code",
   "execution_count": 114,
   "metadata": {},
   "outputs": [],
   "source": [
    "MAX_EPOCHS = 50\n",
    "\n",
    "def compile_and_fit(model, window, patience=2):\n",
    "    early_stopping = tf.keras.callbacks.EarlyStopping(monitor='val_loss',\n",
    "                                                    patience=patience,\n",
    "                                                    mode='min')\n",
    "\n",
    "    model.compile(loss=tf.losses.MeanSquaredError(),\n",
    "                  optimizer=tf.optimizers.Adam(),\n",
    "                  #optimizer = tf.optimizers.RMSprop(),\n",
    "                  metrics=[tf.metrics.MeanAbsoluteError()])\n",
    "\n",
    "    history = model.fit(window.train, epochs=MAX_EPOCHS,\n",
    "                        validation_data=window.val,\n",
    "                        callbacks=[early_stopping])\n",
    "    return history"
   ]
  },
  {
   "cell_type": "markdown",
   "metadata": {},
   "source": [
    "### Baseline Model"
   ]
  },
  {
   "cell_type": "code",
   "execution_count": 286,
   "metadata": {},
   "outputs": [],
   "source": [
    "base_model = tf.keras.models.Sequential([\n",
    "    # Shape [batch, time, features] => [batch, time, lstm_units]\n",
    "    tf.keras.layers.LSTM(32, return_sequences=True),\n",
    "    # Shape => [batch, time, features]\n",
    "    tf.keras.layers.Dense(units=1)\n",
    "])"
   ]
  },
  {
   "cell_type": "code",
   "execution_count": 287,
   "metadata": {},
   "outputs": [
    {
     "name": "stdout",
     "output_type": "stream",
     "text": [
      "Input shape: (32, 6, 12)\n",
      "Output shape: (32, 6, 1)\n"
     ]
    }
   ],
   "source": [
    "print('Input shape:', wide_window.example[0].shape)\n",
    "print('Output shape:', base_model(wide_window.example[0]).shape)"
   ]
  },
  {
   "cell_type": "code",
   "execution_count": 288,
   "metadata": {
    "scrolled": true
   },
   "outputs": [
    {
     "name": "stdout",
     "output_type": "stream",
     "text": [
      "Epoch 1/300\n",
      "1055/1055 [==============================] - 3s 3ms/step - loss: 0.5112 - mean_absolute_error: 0.5552 - val_loss: 0.4181 - val_mean_absolute_error: 0.4952\n",
      "Epoch 2/300\n",
      "1055/1055 [==============================] - 3s 3ms/step - loss: 0.4095 - mean_absolute_error: 0.4758 - val_loss: 0.3463 - val_mean_absolute_error: 0.4383\n",
      "Epoch 3/300\n",
      "1055/1055 [==============================] - 3s 3ms/step - loss: 0.3814 - mean_absolute_error: 0.4518 - val_loss: 0.3235 - val_mean_absolute_error: 0.4219\n",
      "Epoch 4/300\n",
      "1055/1055 [==============================] - 3s 3ms/step - loss: 0.3677 - mean_absolute_error: 0.4396 - val_loss: 0.3079 - val_mean_absolute_error: 0.4107\n",
      "Epoch 5/300\n",
      "1055/1055 [==============================] - 4s 3ms/step - loss: 0.3585 - mean_absolute_error: 0.4310 - val_loss: 0.2982 - val_mean_absolute_error: 0.4023\n",
      "Epoch 6/300\n",
      "1055/1055 [==============================] - 3s 3ms/step - loss: 0.3508 - mean_absolute_error: 0.4237 - val_loss: 0.2922 - val_mean_absolute_error: 0.3958\n",
      "Epoch 7/300\n",
      "1055/1055 [==============================] - 3s 3ms/step - loss: 0.3437 - mean_absolute_error: 0.4172 - val_loss: 0.2863 - val_mean_absolute_error: 0.3905\n",
      "Epoch 8/300\n",
      "1055/1055 [==============================] - 3s 3ms/step - loss: 0.3368 - mean_absolute_error: 0.4114 - val_loss: 0.2800 - val_mean_absolute_error: 0.3856\n",
      "Epoch 9/300\n",
      "1055/1055 [==============================] - 3s 3ms/step - loss: 0.3305 - mean_absolute_error: 0.4063 - val_loss: 0.2731 - val_mean_absolute_error: 0.3799\n",
      "Epoch 10/300\n",
      "1055/1055 [==============================] - 3s 3ms/step - loss: 0.3250 - mean_absolute_error: 0.4019 - val_loss: 0.2663 - val_mean_absolute_error: 0.3735\n",
      "Epoch 11/300\n",
      "1055/1055 [==============================] - 3s 3ms/step - loss: 0.3205 - mean_absolute_error: 0.3981 - val_loss: 0.2611 - val_mean_absolute_error: 0.3682\n",
      "Epoch 12/300\n",
      "1055/1055 [==============================] - 3s 3ms/step - loss: 0.3167 - mean_absolute_error: 0.3949 - val_loss: 0.2573 - val_mean_absolute_error: 0.3642\n",
      "Epoch 13/300\n",
      "1055/1055 [==============================] - 4s 3ms/step - loss: 0.3133 - mean_absolute_error: 0.3922 - val_loss: 0.2541 - val_mean_absolute_error: 0.3608\n",
      "Epoch 14/300\n",
      "1055/1055 [==============================] - 4s 4ms/step - loss: 0.3102 - mean_absolute_error: 0.3897 - val_loss: 0.2513 - val_mean_absolute_error: 0.3576\n",
      "Epoch 15/300\n",
      "1055/1055 [==============================] - 3s 3ms/step - loss: 0.3076 - mean_absolute_error: 0.3876 - val_loss: 0.2491 - val_mean_absolute_error: 0.3554\n",
      "Epoch 16/300\n",
      "1055/1055 [==============================] - 3s 3ms/step - loss: 0.3054 - mean_absolute_error: 0.3858 - val_loss: 0.2470 - val_mean_absolute_error: 0.3531\n",
      "Epoch 17/300\n",
      "1055/1055 [==============================] - 3s 3ms/step - loss: 0.3029 - mean_absolute_error: 0.3839 - val_loss: 0.2454 - val_mean_absolute_error: 0.3513\n",
      "Epoch 18/300\n",
      "1055/1055 [==============================] - 3s 3ms/step - loss: 0.3008 - mean_absolute_error: 0.3822 - val_loss: 0.2441 - val_mean_absolute_error: 0.3499\n",
      "Epoch 19/300\n",
      "1055/1055 [==============================] - 3s 3ms/step - loss: 0.2988 - mean_absolute_error: 0.3806 - val_loss: 0.2428 - val_mean_absolute_error: 0.3486\n",
      "Epoch 20/300\n",
      "1055/1055 [==============================] - 3s 3ms/step - loss: 0.2969 - mean_absolute_error: 0.3790 - val_loss: 0.2415 - val_mean_absolute_error: 0.3471\n",
      "Epoch 21/300\n",
      "1055/1055 [==============================] - 3s 3ms/step - loss: 0.2953 - mean_absolute_error: 0.3777 - val_loss: 0.2405 - val_mean_absolute_error: 0.3461\n",
      "Epoch 22/300\n",
      "1055/1055 [==============================] - 3s 3ms/step - loss: 0.2937 - mean_absolute_error: 0.3764 - val_loss: 0.2394 - val_mean_absolute_error: 0.3448\n",
      "Epoch 23/300\n",
      "1055/1055 [==============================] - 3s 3ms/step - loss: 0.2919 - mean_absolute_error: 0.3750 - val_loss: 0.2382 - val_mean_absolute_error: 0.3435\n",
      "Epoch 24/300\n",
      "1055/1055 [==============================] - 3s 3ms/step - loss: 0.2903 - mean_absolute_error: 0.3736 - val_loss: 0.2370 - val_mean_absolute_error: 0.3423\n",
      "Epoch 25/300\n",
      "1055/1055 [==============================] - 3s 3ms/step - loss: 0.2887 - mean_absolute_error: 0.3723 - val_loss: 0.2358 - val_mean_absolute_error: 0.3410\n",
      "Epoch 26/300\n",
      "1055/1055 [==============================] - 3s 3ms/step - loss: 0.2873 - mean_absolute_error: 0.3712 - val_loss: 0.2348 - val_mean_absolute_error: 0.3400\n",
      "Epoch 27/300\n",
      "1055/1055 [==============================] - 3s 3ms/step - loss: 0.2858 - mean_absolute_error: 0.3699 - val_loss: 0.2335 - val_mean_absolute_error: 0.3387\n",
      "Epoch 28/300\n",
      "1055/1055 [==============================] - 3s 3ms/step - loss: 0.2845 - mean_absolute_error: 0.3688 - val_loss: 0.2322 - val_mean_absolute_error: 0.3374\n",
      "Epoch 29/300\n",
      "1055/1055 [==============================] - 3s 3ms/step - loss: 0.2831 - mean_absolute_error: 0.3676 - val_loss: 0.2313 - val_mean_absolute_error: 0.3366\n",
      "Epoch 30/300\n",
      "1055/1055 [==============================] - 3s 3ms/step - loss: 0.2817 - mean_absolute_error: 0.3665 - val_loss: 0.2300 - val_mean_absolute_error: 0.3353\n",
      "Epoch 31/300\n",
      "1055/1055 [==============================] - 3s 3ms/step - loss: 0.2805 - mean_absolute_error: 0.3655 - val_loss: 0.2292 - val_mean_absolute_error: 0.3346\n",
      "Epoch 32/300\n",
      "1055/1055 [==============================] - 3s 3ms/step - loss: 0.2792 - mean_absolute_error: 0.3644 - val_loss: 0.2281 - val_mean_absolute_error: 0.3336\n",
      "Epoch 33/300\n",
      "1055/1055 [==============================] - 3s 3ms/step - loss: 0.2781 - mean_absolute_error: 0.3634 - val_loss: 0.2270 - val_mean_absolute_error: 0.3325\n",
      "Epoch 34/300\n",
      "1055/1055 [==============================] - 3s 3ms/step - loss: 0.2770 - mean_absolute_error: 0.3624 - val_loss: 0.2263 - val_mean_absolute_error: 0.3319\n",
      "Epoch 35/300\n",
      "1055/1055 [==============================] - 3s 3ms/step - loss: 0.2758 - mean_absolute_error: 0.3614 - val_loss: 0.2252 - val_mean_absolute_error: 0.3309\n",
      "Epoch 36/300\n",
      "1055/1055 [==============================] - 3s 3ms/step - loss: 0.2748 - mean_absolute_error: 0.3606 - val_loss: 0.2245 - val_mean_absolute_error: 0.3302\n",
      "Epoch 37/300\n",
      "1055/1055 [==============================] - 3s 3ms/step - loss: 0.2738 - mean_absolute_error: 0.3597 - val_loss: 0.2236 - val_mean_absolute_error: 0.3294\n",
      "Epoch 38/300\n",
      "1055/1055 [==============================] - 4s 3ms/step - loss: 0.2728 - mean_absolute_error: 0.3588 - val_loss: 0.2227 - val_mean_absolute_error: 0.3285\n",
      "Epoch 39/300\n",
      "1055/1055 [==============================] - 3s 3ms/step - loss: 0.2718 - mean_absolute_error: 0.3580 - val_loss: 0.2221 - val_mean_absolute_error: 0.3279\n",
      "Epoch 40/300\n",
      "1055/1055 [==============================] - 3s 3ms/step - loss: 0.2708 - mean_absolute_error: 0.3571 - val_loss: 0.2211 - val_mean_absolute_error: 0.3271\n",
      "Epoch 41/300\n",
      "1055/1055 [==============================] - 3s 3ms/step - loss: 0.2700 - mean_absolute_error: 0.3564 - val_loss: 0.2206 - val_mean_absolute_error: 0.3266\n",
      "Epoch 42/300\n",
      "1055/1055 [==============================] - 3s 3ms/step - loss: 0.2692 - mean_absolute_error: 0.3557 - val_loss: 0.2199 - val_mean_absolute_error: 0.3259\n",
      "Epoch 43/300\n",
      "1055/1055 [==============================] - 3s 3ms/step - loss: 0.2683 - mean_absolute_error: 0.3549 - val_loss: 0.2191 - val_mean_absolute_error: 0.3252\n",
      "Epoch 44/300\n",
      "1055/1055 [==============================] - 3s 3ms/step - loss: 0.2675 - mean_absolute_error: 0.3542 - val_loss: 0.2188 - val_mean_absolute_error: 0.3248\n",
      "Epoch 45/300\n",
      "1055/1055 [==============================] - 3s 3ms/step - loss: 0.2666 - mean_absolute_error: 0.3534 - val_loss: 0.2179 - val_mean_absolute_error: 0.3240\n",
      "Epoch 46/300\n",
      "1055/1055 [==============================] - 3s 3ms/step - loss: 0.2659 - mean_absolute_error: 0.3528 - val_loss: 0.2176 - val_mean_absolute_error: 0.3236\n",
      "Epoch 47/300\n",
      "1055/1055 [==============================] - 3s 3ms/step - loss: 0.2652 - mean_absolute_error: 0.3522 - val_loss: 0.2169 - val_mean_absolute_error: 0.3231\n",
      "Epoch 48/300\n",
      "1055/1055 [==============================] - 3s 3ms/step - loss: 0.2644 - mean_absolute_error: 0.3515 - val_loss: 0.2164 - val_mean_absolute_error: 0.3225\n",
      "Epoch 49/300\n",
      "1055/1055 [==============================] - 3s 3ms/step - loss: 0.2637 - mean_absolute_error: 0.3509 - val_loss: 0.2161 - val_mean_absolute_error: 0.3222\n"
     ]
    },
    {
     "name": "stdout",
     "output_type": "stream",
     "text": [
      "Epoch 50/300\n",
      "1055/1055 [==============================] - 3s 3ms/step - loss: 0.2629 - mean_absolute_error: 0.3503 - val_loss: 0.2156 - val_mean_absolute_error: 0.3216\n",
      "Epoch 51/300\n",
      "1055/1055 [==============================] - 3s 3ms/step - loss: 0.2622 - mean_absolute_error: 0.3497 - val_loss: 0.2151 - val_mean_absolute_error: 0.3211\n",
      "Epoch 52/300\n",
      "1055/1055 [==============================] - 3s 3ms/step - loss: 0.2615 - mean_absolute_error: 0.3491 - val_loss: 0.2149 - val_mean_absolute_error: 0.3209\n",
      "Epoch 53/300\n",
      "1055/1055 [==============================] - 3s 3ms/step - loss: 0.2608 - mean_absolute_error: 0.3485 - val_loss: 0.2144 - val_mean_absolute_error: 0.3204\n",
      "Epoch 54/300\n",
      "1055/1055 [==============================] - 3s 3ms/step - loss: 0.2601 - mean_absolute_error: 0.3480 - val_loss: 0.2141 - val_mean_absolute_error: 0.3200\n",
      "Epoch 55/300\n",
      "1055/1055 [==============================] - 3s 3ms/step - loss: 0.2595 - mean_absolute_error: 0.3475 - val_loss: 0.2139 - val_mean_absolute_error: 0.3198\n",
      "Epoch 56/300\n",
      "1055/1055 [==============================] - 3s 3ms/step - loss: 0.2588 - mean_absolute_error: 0.3469 - val_loss: 0.2134 - val_mean_absolute_error: 0.3193\n",
      "Epoch 57/300\n",
      "1055/1055 [==============================] - 3s 3ms/step - loss: 0.2583 - mean_absolute_error: 0.3465 - val_loss: 0.2131 - val_mean_absolute_error: 0.3189\n",
      "Epoch 58/300\n",
      "1055/1055 [==============================] - 3s 3ms/step - loss: 0.2577 - mean_absolute_error: 0.3460 - val_loss: 0.2130 - val_mean_absolute_error: 0.3187\n",
      "Epoch 59/300\n",
      "1055/1055 [==============================] - 3s 3ms/step - loss: 0.2570 - mean_absolute_error: 0.3454 - val_loss: 0.2124 - val_mean_absolute_error: 0.3182\n",
      "Epoch 60/300\n",
      "1055/1055 [==============================] - 3s 3ms/step - loss: 0.2564 - mean_absolute_error: 0.3450 - val_loss: 0.2124 - val_mean_absolute_error: 0.3180\n",
      "Epoch 61/300\n",
      "1055/1055 [==============================] - 3s 3ms/step - loss: 0.2558 - mean_absolute_error: 0.3445 - val_loss: 0.2121 - val_mean_absolute_error: 0.3177\n",
      "Epoch 62/300\n",
      "1055/1055 [==============================] - 3s 3ms/step - loss: 0.2552 - mean_absolute_error: 0.3440 - val_loss: 0.2117 - val_mean_absolute_error: 0.3173\n",
      "Epoch 63/300\n",
      "1055/1055 [==============================] - 3s 3ms/step - loss: 0.2547 - mean_absolute_error: 0.3437 - val_loss: 0.2117 - val_mean_absolute_error: 0.3172\n",
      "Epoch 64/300\n",
      "1055/1055 [==============================] - 3s 3ms/step - loss: 0.2541 - mean_absolute_error: 0.3432 - val_loss: 0.2114 - val_mean_absolute_error: 0.3169\n",
      "Epoch 65/300\n",
      "1055/1055 [==============================] - 3s 3ms/step - loss: 0.2536 - mean_absolute_error: 0.3428 - val_loss: 0.2112 - val_mean_absolute_error: 0.3166\n",
      "Epoch 66/300\n",
      "1055/1055 [==============================] - 3s 3ms/step - loss: 0.2531 - mean_absolute_error: 0.3424 - val_loss: 0.2111 - val_mean_absolute_error: 0.3165\n",
      "Epoch 67/300\n",
      "1055/1055 [==============================] - 3s 3ms/step - loss: 0.2526 - mean_absolute_error: 0.3420 - val_loss: 0.2108 - val_mean_absolute_error: 0.3162\n",
      "Epoch 68/300\n",
      "1055/1055 [==============================] - 3s 3ms/step - loss: 0.2521 - mean_absolute_error: 0.3416 - val_loss: 0.2106 - val_mean_absolute_error: 0.3160\n",
      "Epoch 69/300\n",
      "1055/1055 [==============================] - 3s 3ms/step - loss: 0.2517 - mean_absolute_error: 0.3413 - val_loss: 0.2106 - val_mean_absolute_error: 0.3159\n",
      "Epoch 70/300\n",
      "1055/1055 [==============================] - 3s 3ms/step - loss: 0.2511 - mean_absolute_error: 0.3408 - val_loss: 0.2103 - val_mean_absolute_error: 0.3156\n",
      "Epoch 71/300\n",
      "1055/1055 [==============================] - 3s 3ms/step - loss: 0.2507 - mean_absolute_error: 0.3406 - val_loss: 0.2102 - val_mean_absolute_error: 0.3155\n",
      "Epoch 72/300\n",
      "1055/1055 [==============================] - 3s 3ms/step - loss: 0.2504 - mean_absolute_error: 0.3403 - val_loss: 0.2102 - val_mean_absolute_error: 0.3154\n",
      "Epoch 73/300\n",
      "1055/1055 [==============================] - 3s 3ms/step - loss: 0.2498 - mean_absolute_error: 0.3398 - val_loss: 0.2098 - val_mean_absolute_error: 0.3150\n",
      "Epoch 74/300\n",
      "1055/1055 [==============================] - 3s 3ms/step - loss: 0.2494 - mean_absolute_error: 0.3395 - val_loss: 0.2098 - val_mean_absolute_error: 0.3150\n",
      "Epoch 75/300\n",
      "1055/1055 [==============================] - 3s 3ms/step - loss: 0.2490 - mean_absolute_error: 0.3392 - val_loss: 0.2097 - val_mean_absolute_error: 0.3148\n",
      "Epoch 76/300\n",
      "1055/1055 [==============================] - 3s 3ms/step - loss: 0.2485 - mean_absolute_error: 0.3388 - val_loss: 0.2094 - val_mean_absolute_error: 0.3146\n",
      "Epoch 77/300\n",
      "1055/1055 [==============================] - 3s 3ms/step - loss: 0.2482 - mean_absolute_error: 0.3386 - val_loss: 0.2096 - val_mean_absolute_error: 0.3146\n",
      "Epoch 78/300\n",
      "1055/1055 [==============================] - 3s 3ms/step - loss: 0.2478 - mean_absolute_error: 0.3383 - val_loss: 0.2092 - val_mean_absolute_error: 0.3143\n",
      "Epoch 79/300\n",
      "1055/1055 [==============================] - 3s 3ms/step - loss: 0.2474 - mean_absolute_error: 0.3379 - val_loss: 0.2092 - val_mean_absolute_error: 0.3142\n",
      "Epoch 80/300\n",
      "1055/1055 [==============================] - 3s 3ms/step - loss: 0.2470 - mean_absolute_error: 0.3377 - val_loss: 0.2092 - val_mean_absolute_error: 0.3142\n",
      "Epoch 81/300\n",
      "1055/1055 [==============================] - 3s 3ms/step - loss: 0.2466 - mean_absolute_error: 0.3374 - val_loss: 0.2089 - val_mean_absolute_error: 0.3140\n",
      "Epoch 82/300\n",
      "1055/1055 [==============================] - 3s 3ms/step - loss: 0.2463 - mean_absolute_error: 0.3372 - val_loss: 0.2088 - val_mean_absolute_error: 0.3138\n",
      "Epoch 83/300\n",
      "1055/1055 [==============================] - 3s 3ms/step - loss: 0.2459 - mean_absolute_error: 0.3368 - val_loss: 0.2088 - val_mean_absolute_error: 0.3138\n",
      "Epoch 84/300\n",
      "1055/1055 [==============================] - 3s 3ms/step - loss: 0.2455 - mean_absolute_error: 0.3365 - val_loss: 0.2086 - val_mean_absolute_error: 0.3136\n",
      "Epoch 85/300\n",
      "1055/1055 [==============================] - 3s 3ms/step - loss: 0.2452 - mean_absolute_error: 0.3363 - val_loss: 0.2087 - val_mean_absolute_error: 0.3136\n",
      "Epoch 86/300\n",
      "1055/1055 [==============================] - 3s 3ms/step - loss: 0.2449 - mean_absolute_error: 0.3360 - val_loss: 0.2084 - val_mean_absolute_error: 0.3134\n",
      "Epoch 87/300\n",
      "1055/1055 [==============================] - 3s 3ms/step - loss: 0.2445 - mean_absolute_error: 0.3358 - val_loss: 0.2085 - val_mean_absolute_error: 0.3134\n",
      "Epoch 88/300\n",
      "1055/1055 [==============================] - 3s 3ms/step - loss: 0.2442 - mean_absolute_error: 0.3355 - val_loss: 0.2083 - val_mean_absolute_error: 0.3133\n",
      "Epoch 89/300\n",
      "1055/1055 [==============================] - 3s 3ms/step - loss: 0.2439 - mean_absolute_error: 0.3353 - val_loss: 0.2082 - val_mean_absolute_error: 0.3132\n",
      "Epoch 90/300\n",
      "1055/1055 [==============================] - 3s 3ms/step - loss: 0.2435 - mean_absolute_error: 0.3350 - val_loss: 0.2080 - val_mean_absolute_error: 0.3131\n",
      "Epoch 91/300\n",
      "1055/1055 [==============================] - 3s 3ms/step - loss: 0.2433 - mean_absolute_error: 0.3348 - val_loss: 0.2081 - val_mean_absolute_error: 0.3131\n",
      "Epoch 92/300\n",
      "1055/1055 [==============================] - 3s 3ms/step - loss: 0.2429 - mean_absolute_error: 0.3346 - val_loss: 0.2080 - val_mean_absolute_error: 0.3131\n",
      "Epoch 93/300\n",
      "1055/1055 [==============================] - 3s 3ms/step - loss: 0.2426 - mean_absolute_error: 0.3343 - val_loss: 0.2079 - val_mean_absolute_error: 0.3129\n",
      "Epoch 94/300\n",
      "1055/1055 [==============================] - 3s 3ms/step - loss: 0.2423 - mean_absolute_error: 0.3340 - val_loss: 0.2079 - val_mean_absolute_error: 0.3130\n",
      "Epoch 95/300\n",
      "1055/1055 [==============================] - 3s 3ms/step - loss: 0.2420 - mean_absolute_error: 0.3339 - val_loss: 0.2079 - val_mean_absolute_error: 0.3129\n",
      "Epoch 96/300\n",
      "1055/1055 [==============================] - 3s 3ms/step - loss: 0.2417 - mean_absolute_error: 0.3336 - val_loss: 0.2077 - val_mean_absolute_error: 0.3129\n",
      "Epoch 97/300\n",
      "1055/1055 [==============================] - 3s 3ms/step - loss: 0.2413 - mean_absolute_error: 0.3334 - val_loss: 0.2077 - val_mean_absolute_error: 0.3128\n",
      "Epoch 98/300\n",
      "1055/1055 [==============================] - 3s 3ms/step - loss: 0.2411 - mean_absolute_error: 0.3332 - val_loss: 0.2077 - val_mean_absolute_error: 0.3128\n"
     ]
    },
    {
     "name": "stdout",
     "output_type": "stream",
     "text": [
      "Epoch 99/300\n",
      "1055/1055 [==============================] - 3s 3ms/step - loss: 0.2408 - mean_absolute_error: 0.3330 - val_loss: 0.2076 - val_mean_absolute_error: 0.3128\n",
      "Epoch 100/300\n",
      "1055/1055 [==============================] - 3s 3ms/step - loss: 0.2405 - mean_absolute_error: 0.3328 - val_loss: 0.2076 - val_mean_absolute_error: 0.3128\n",
      "Epoch 101/300\n",
      "1055/1055 [==============================] - 3s 3ms/step - loss: 0.2402 - mean_absolute_error: 0.3325 - val_loss: 0.2075 - val_mean_absolute_error: 0.3128\n",
      "Epoch 102/300\n",
      "1055/1055 [==============================] - 3s 3ms/step - loss: 0.2400 - mean_absolute_error: 0.3324 - val_loss: 0.2075 - val_mean_absolute_error: 0.3127\n",
      "Epoch 103/300\n",
      "1055/1055 [==============================] - 3s 3ms/step - loss: 0.2397 - mean_absolute_error: 0.3322 - val_loss: 0.2074 - val_mean_absolute_error: 0.3127\n",
      "Epoch 104/300\n",
      "1055/1055 [==============================] - 3s 3ms/step - loss: 0.2394 - mean_absolute_error: 0.3320 - val_loss: 0.2075 - val_mean_absolute_error: 0.3128\n",
      "Epoch 105/300\n",
      "1055/1055 [==============================] - 3s 3ms/step - loss: 0.2391 - mean_absolute_error: 0.3318 - val_loss: 0.2073 - val_mean_absolute_error: 0.3126\n",
      "Epoch 106/300\n",
      "1055/1055 [==============================] - 3s 3ms/step - loss: 0.2389 - mean_absolute_error: 0.3317 - val_loss: 0.2074 - val_mean_absolute_error: 0.3128\n",
      "Epoch 107/300\n",
      "1055/1055 [==============================] - 3s 3ms/step - loss: 0.2386 - mean_absolute_error: 0.3315 - val_loss: 0.2073 - val_mean_absolute_error: 0.3127\n",
      "Epoch 108/300\n",
      "1055/1055 [==============================] - 3s 3ms/step - loss: 0.2384 - mean_absolute_error: 0.3313 - val_loss: 0.2073 - val_mean_absolute_error: 0.3127\n",
      "Epoch 109/300\n",
      "1055/1055 [==============================] - 3s 3ms/step - loss: 0.2381 - mean_absolute_error: 0.3311 - val_loss: 0.2072 - val_mean_absolute_error: 0.3126\n",
      "Epoch 110/300\n",
      "1055/1055 [==============================] - 3s 3ms/step - loss: 0.2379 - mean_absolute_error: 0.3309 - val_loss: 0.2072 - val_mean_absolute_error: 0.3127\n",
      "Epoch 111/300\n",
      "1055/1055 [==============================] - 3s 3ms/step - loss: 0.2376 - mean_absolute_error: 0.3307 - val_loss: 0.2071 - val_mean_absolute_error: 0.3126\n",
      "Epoch 112/300\n",
      "1055/1055 [==============================] - 3s 3ms/step - loss: 0.2374 - mean_absolute_error: 0.3306 - val_loss: 0.2072 - val_mean_absolute_error: 0.3127\n",
      "Epoch 113/300\n",
      "1055/1055 [==============================] - 3s 3ms/step - loss: 0.2371 - mean_absolute_error: 0.3304 - val_loss: 0.2070 - val_mean_absolute_error: 0.3126\n",
      "Epoch 114/300\n",
      "1055/1055 [==============================] - 3s 3ms/step - loss: 0.2369 - mean_absolute_error: 0.3302 - val_loss: 0.2070 - val_mean_absolute_error: 0.3126\n",
      "Epoch 115/300\n",
      "1055/1055 [==============================] - 3s 3ms/step - loss: 0.2366 - mean_absolute_error: 0.3300 - val_loss: 0.2069 - val_mean_absolute_error: 0.3126\n",
      "Epoch 116/300\n",
      "1055/1055 [==============================] - 3s 3ms/step - loss: 0.2364 - mean_absolute_error: 0.3299 - val_loss: 0.2069 - val_mean_absolute_error: 0.3125\n",
      "Epoch 117/300\n",
      "1055/1055 [==============================] - 3s 3ms/step - loss: 0.2362 - mean_absolute_error: 0.3298 - val_loss: 0.2068 - val_mean_absolute_error: 0.3125\n",
      "Epoch 118/300\n",
      "1055/1055 [==============================] - 3s 3ms/step - loss: 0.2360 - mean_absolute_error: 0.3296 - val_loss: 0.2067 - val_mean_absolute_error: 0.3124\n",
      "Epoch 119/300\n",
      "1055/1055 [==============================] - 3s 3ms/step - loss: 0.2358 - mean_absolute_error: 0.3294 - val_loss: 0.2069 - val_mean_absolute_error: 0.3125\n",
      "Epoch 120/300\n",
      "1055/1055 [==============================] - 3s 3ms/step - loss: 0.2355 - mean_absolute_error: 0.3293 - val_loss: 0.2066 - val_mean_absolute_error: 0.3124\n",
      "Epoch 121/300\n",
      "1055/1055 [==============================] - 3s 3ms/step - loss: 0.2353 - mean_absolute_error: 0.3291 - val_loss: 0.2065 - val_mean_absolute_error: 0.3123\n",
      "Epoch 122/300\n",
      "1055/1055 [==============================] - 3s 3ms/step - loss: 0.2351 - mean_absolute_error: 0.3289 - val_loss: 0.2066 - val_mean_absolute_error: 0.3124\n",
      "Epoch 123/300\n",
      "1055/1055 [==============================] - 3s 3ms/step - loss: 0.2349 - mean_absolute_error: 0.3288 - val_loss: 0.2064 - val_mean_absolute_error: 0.3122\n",
      "Epoch 124/300\n",
      "1055/1055 [==============================] - 3s 3ms/step - loss: 0.2347 - mean_absolute_error: 0.3286 - val_loss: 0.2064 - val_mean_absolute_error: 0.3122\n",
      "Epoch 125/300\n",
      "1055/1055 [==============================] - 3s 3ms/step - loss: 0.2345 - mean_absolute_error: 0.3285 - val_loss: 0.2063 - val_mean_absolute_error: 0.3122\n",
      "Epoch 126/300\n",
      "1055/1055 [==============================] - 3s 3ms/step - loss: 0.2343 - mean_absolute_error: 0.3284 - val_loss: 0.2061 - val_mean_absolute_error: 0.3120\n",
      "Epoch 127/300\n",
      "1055/1055 [==============================] - 3s 3ms/step - loss: 0.2341 - mean_absolute_error: 0.3283 - val_loss: 0.2062 - val_mean_absolute_error: 0.3121\n",
      "Epoch 128/300\n",
      "1055/1055 [==============================] - 3s 3ms/step - loss: 0.2339 - mean_absolute_error: 0.3281 - val_loss: 0.2060 - val_mean_absolute_error: 0.3120\n",
      "Epoch 129/300\n",
      "1055/1055 [==============================] - 3s 3ms/step - loss: 0.2337 - mean_absolute_error: 0.3280 - val_loss: 0.2061 - val_mean_absolute_error: 0.3121\n",
      "Epoch 130/300\n",
      "1055/1055 [==============================] - 3s 3ms/step - loss: 0.2335 - mean_absolute_error: 0.3279 - val_loss: 0.2059 - val_mean_absolute_error: 0.3119\n",
      "Epoch 131/300\n",
      "1055/1055 [==============================] - 3s 3ms/step - loss: 0.2333 - mean_absolute_error: 0.3277 - val_loss: 0.2058 - val_mean_absolute_error: 0.3119\n",
      "Epoch 132/300\n",
      "1055/1055 [==============================] - 3s 3ms/step - loss: 0.2331 - mean_absolute_error: 0.3275 - val_loss: 0.2059 - val_mean_absolute_error: 0.3119\n",
      "Epoch 133/300\n",
      "1055/1055 [==============================] - 3s 3ms/step - loss: 0.2328 - mean_absolute_error: 0.3274 - val_loss: 0.2058 - val_mean_absolute_error: 0.3119\n",
      "Epoch 134/300\n",
      "1055/1055 [==============================] - 3s 3ms/step - loss: 0.2327 - mean_absolute_error: 0.3272 - val_loss: 0.2057 - val_mean_absolute_error: 0.3118\n",
      "Epoch 135/300\n",
      "1055/1055 [==============================] - 3s 3ms/step - loss: 0.2325 - mean_absolute_error: 0.3271 - val_loss: 0.2058 - val_mean_absolute_error: 0.3119\n",
      "Epoch 136/300\n",
      "1055/1055 [==============================] - 3s 3ms/step - loss: 0.2325 - mean_absolute_error: 0.3271 - val_loss: 0.2056 - val_mean_absolute_error: 0.3117\n",
      "Epoch 137/300\n",
      "1055/1055 [==============================] - 3s 3ms/step - loss: 0.2321 - mean_absolute_error: 0.3269 - val_loss: 0.2057 - val_mean_absolute_error: 0.3118\n",
      "Epoch 138/300\n",
      "1055/1055 [==============================] - 3s 3ms/step - loss: 0.2320 - mean_absolute_error: 0.3268 - val_loss: 0.2054 - val_mean_absolute_error: 0.3116\n",
      "Epoch 139/300\n",
      "1055/1055 [==============================] - 3s 3ms/step - loss: 0.2317 - mean_absolute_error: 0.3266 - val_loss: 0.2056 - val_mean_absolute_error: 0.3117\n",
      "Epoch 140/300\n",
      "1055/1055 [==============================] - 3s 3ms/step - loss: 0.2317 - mean_absolute_error: 0.3266 - val_loss: 0.2057 - val_mean_absolute_error: 0.3117\n"
     ]
    }
   ],
   "source": [
    "history = compile_and_fit(base_model, wide_window)"
   ]
  },
  {
   "cell_type": "code",
   "execution_count": 289,
   "metadata": {},
   "outputs": [
    {
     "name": "stdout",
     "output_type": "stream",
     "text": [
      "Model: \"sequential_18\"\n",
      "_________________________________________________________________\n",
      "Layer (type)                 Output Shape              Param #   \n",
      "=================================================================\n",
      "lstm_29 (LSTM)               (None, 6, 32)             5760      \n",
      "_________________________________________________________________\n",
      "dense_18 (Dense)             (None, 6, 1)              33        \n",
      "=================================================================\n",
      "Total params: 5,793\n",
      "Trainable params: 5,793\n",
      "Non-trainable params: 0\n",
      "_________________________________________________________________\n"
     ]
    }
   ],
   "source": [
    "base_model.summary()"
   ]
  },
  {
   "cell_type": "code",
   "execution_count": 290,
   "metadata": {},
   "outputs": [
    {
     "name": "stdout",
     "output_type": "stream",
     "text": [
      "302/302 [==============================] - 0s 1ms/step - loss: 0.2057 - mean_absolute_error: 0.3117\n"
     ]
    }
   ],
   "source": [
    "val_performance = {}\n",
    "performance = {}\n",
    "IPython.display.clear_output()\n",
    "val_performance['LSTM'] = base_model.evaluate(wide_window.val)\n",
    "performance['LSTM'] = base_model.evaluate(wide_window.test, verbose=0)"
   ]
  },
  {
   "cell_type": "markdown",
   "metadata": {},
   "source": [
    "### Find the Best Model"
   ]
  },
  {
   "cell_type": "code",
   "execution_count": 115,
   "metadata": {},
   "outputs": [],
   "source": [
    "# bidirectional LSTM model\n",
    "lstm_model = tf.keras.models.Sequential([\n",
    "   \n",
    "    tf.keras.layers.Bidirectional(tf.keras.layers.LSTM(32, return_sequences=True,)),\n",
    "#                                                        recurrent_dropout=0.1, \n",
    "#                                                        dropout=0.1,\n",
    "#                                                         kernel_regularizer=tf.keras.regularizers.L2(1e-4))), \n",
    "    tf.keras.layers.Bidirectional(tf.keras.layers.LSTM(64, return_sequences=True, )),\n",
    "#                                                         kernel_regularizer=tf.keras.regularizers.L2(1e-4))), \n",
    "#                                                         recurrent_dropout=0.1)), \n",
    "    tf.keras.layers.Bidirectional(tf.keras.layers.LSTM(64, return_sequences=True, )),\n",
    "#                                                        kernel_regularizer=tf.keras.regularizers.L2(1e-4))),\n",
    "#                                                        recurrent_dropout=0.1)),\n",
    "  \n",
    "    tf.keras.layers.Dense(units=1)\n",
    "])"
   ]
  },
  {
   "cell_type": "code",
   "execution_count": 116,
   "metadata": {},
   "outputs": [
    {
     "name": "stdout",
     "output_type": "stream",
     "text": [
      "Input shape: (16, 6, 12)\n",
      "Output shape: (16, 6, 1)\n"
     ]
    }
   ],
   "source": [
    "print('Input shape:', wide_window.example[0].shape)\n",
    "print('Output shape:', lstm_model(wide_window.example[0]).shape)"
   ]
  },
  {
   "cell_type": "code",
   "execution_count": 117,
   "metadata": {
    "scrolled": false
   },
   "outputs": [
    {
     "name": "stdout",
     "output_type": "stream",
     "text": [
      "Epoch 1/50\n",
      "2109/2109 [==============================] - 21s 10ms/step - loss: 0.3482 - mean_absolute_error: 0.4290 - val_loss: 0.2366 - val_mean_absolute_error: 0.3429\n",
      "Epoch 2/50\n",
      "2109/2109 [==============================] - 21s 10ms/step - loss: 0.2572 - mean_absolute_error: 0.3496 - val_loss: 0.1983 - val_mean_absolute_error: 0.3065\n",
      "Epoch 3/50\n",
      "2109/2109 [==============================] - 20s 10ms/step - loss: 0.2184 - mean_absolute_error: 0.3155 - val_loss: 0.1743 - val_mean_absolute_error: 0.2809\n",
      "Epoch 4/50\n",
      "2109/2109 [==============================] - 21s 10ms/step - loss: 0.1922 - mean_absolute_error: 0.2923 - val_loss: 0.1509 - val_mean_absolute_error: 0.2624\n",
      "Epoch 5/50\n",
      "2109/2109 [==============================] - 21s 10ms/step - loss: 0.1762 - mean_absolute_error: 0.2780 - val_loss: 0.1328 - val_mean_absolute_error: 0.2486\n",
      "Epoch 6/50\n",
      "2109/2109 [==============================] - 21s 10ms/step - loss: 0.1653 - mean_absolute_error: 0.2684 - val_loss: 0.1271 - val_mean_absolute_error: 0.2431\n",
      "Epoch 7/50\n",
      "2109/2109 [==============================] - 21s 10ms/step - loss: 0.1564 - mean_absolute_error: 0.2599 - val_loss: 0.1198 - val_mean_absolute_error: 0.2356\n",
      "Epoch 8/50\n",
      "2109/2109 [==============================] - 21s 10ms/step - loss: 0.1509 - mean_absolute_error: 0.2546 - val_loss: 0.1163 - val_mean_absolute_error: 0.2313\n",
      "Epoch 9/50\n",
      "2109/2109 [==============================] - 22s 10ms/step - loss: 0.1465 - mean_absolute_error: 0.2501 - val_loss: 0.1160 - val_mean_absolute_error: 0.2289\n",
      "Epoch 10/50\n",
      "2109/2109 [==============================] - 21s 10ms/step - loss: 0.1435 - mean_absolute_error: 0.2464 - val_loss: 0.1121 - val_mean_absolute_error: 0.2256\n",
      "Epoch 11/50\n",
      "2109/2109 [==============================] - 20s 9ms/step - loss: 0.1399 - mean_absolute_error: 0.2429 - val_loss: 0.1162 - val_mean_absolute_error: 0.2269\n",
      "Epoch 12/50\n",
      "2109/2109 [==============================] - 23s 11ms/step - loss: 0.1363 - mean_absolute_error: 0.2389 - val_loss: 0.1195 - val_mean_absolute_error: 0.2270\n"
     ]
    }
   ],
   "source": [
    "history = compile_and_fit(lstm_model, wide_window)"
   ]
  },
  {
   "cell_type": "code",
   "execution_count": 118,
   "metadata": {},
   "outputs": [
    {
     "name": "stdout",
     "output_type": "stream",
     "text": [
      "Model: \"sequential_4\"\n",
      "_________________________________________________________________\n",
      "Layer (type)                 Output Shape              Param #   \n",
      "=================================================================\n",
      "bidirectional_15 (Bidirectio (None, 6, 64)             11520     \n",
      "_________________________________________________________________\n",
      "bidirectional_16 (Bidirectio (None, 6, 128)            66048     \n",
      "_________________________________________________________________\n",
      "bidirectional_17 (Bidirectio (None, 6, 128)            98816     \n",
      "_________________________________________________________________\n",
      "dense_5 (Dense)              (None, 6, 1)              129       \n",
      "=================================================================\n",
      "Total params: 176,513\n",
      "Trainable params: 176,513\n",
      "Non-trainable params: 0\n",
      "_________________________________________________________________\n"
     ]
    }
   ],
   "source": [
    "lstm_model.summary()"
   ]
  },
  {
   "cell_type": "code",
   "execution_count": 119,
   "metadata": {},
   "outputs": [
    {
     "name": "stdout",
     "output_type": "stream",
     "text": [
      "603/603 [==============================] - 1s 2ms/step - loss: 0.1195 - mean_absolute_error: 0.2270\n"
     ]
    }
   ],
   "source": [
    "val_performance = {}\n",
    "performance = {}\n",
    "IPython.display.clear_output()\n",
    "val_performance['LSTM'] = lstm_model.evaluate(wide_window.val)\n",
    "performance['LSTM'] = lstm_model.evaluate(wide_window.test, verbose=0)"
   ]
  },
  {
   "cell_type": "markdown",
   "metadata": {},
   "source": [
    "### Other models\n",
    "\n",
    "**1D convnet + RNN**"
   ]
  },
  {
   "cell_type": "code",
   "execution_count": 87,
   "metadata": {},
   "outputs": [],
   "source": [
    "lstm_model = tf.keras.models.Sequential([\n",
    "    \n",
    "    tf.keras.layers.Conv1D(filters=64, kernel_size=5, strides=1, \n",
    "                           padding=\"causal\", activation=\"relu\"),\n",
    "    tf.keras.layers.MaxPooling1D(pool_size=1),\n",
    "   \n",
    "    tf.keras.layers.Bidirectional(tf.keras.layers.LSTM(64, return_sequences=True)),\n",
    "    tf.keras.layers.Bidirectional(tf.keras.layers.LSTM(64, return_sequences=True)),\n",
    "\n",
    "#     tf.keras.layers.LSTM(16, return_sequences=True, activation='relu'),\n",
    "#     tf.keras.layers.LSTM(64, return_sequences=True, activation='relu'), \n",
    "  \n",
    "    tf.keras.layers.Dense(units=1)\n",
    "])"
   ]
  },
  {
   "cell_type": "markdown",
   "metadata": {},
   "source": [
    "**Stateful bidirectional LSTM model**"
   ]
  },
  {
   "cell_type": "code",
   "execution_count": null,
   "metadata": {},
   "outputs": [],
   "source": [
    "# lstm_model = tf.keras.models.Sequential([\n",
    "   \n",
    "#     tf.keras.layers.Bidirectional(tf.keras.layers.LSTM(32, return_sequences=True, \n",
    "#                                                        recurrent_dropout=0.2,\n",
    "#                                                        batch_input_shape=(1, 6, 12), stateful=True,)),\n",
    "    \n",
    "#     tf.keras.layers.Bidirectional(tf.keras.layers.LSTM(64, return_sequences=True, stateful=True)), \n",
    "#     tf.keras.layers.Bidirectional(tf.keras.layers.LSTM(64, return_sequences=True, stateful=True)),\n",
    "  \n",
    "#     tf.keras.layers.Dense(units=1)\n",
    "# ])"
   ]
  },
  {
   "cell_type": "markdown",
   "metadata": {},
   "source": [
    "**Stacked LSTM layers model**"
   ]
  },
  {
   "cell_type": "code",
   "execution_count": null,
   "metadata": {},
   "outputs": [],
   "source": [
    "# lstm_model = tf.keras.models.Sequential([\n",
    "   \n",
    "#     tf.keras.layers.LSTM(64, return_sequences=True),\n",
    "# #                          stateful=True,\n",
    "# #                          batch_input_shape=(1, 6, 12)),  # match the batch size in 'make_dataset'\n",
    "#     tf.keras.layers.LSTM(64, return_sequences=True),\n",
    "# #                          stateful=True), \n",
    "      \n",
    "#     tf.keras.layers.Dense(units=1)\n",
    "# ])"
   ]
  },
  {
   "cell_type": "code",
   "execution_count": 88,
   "metadata": {},
   "outputs": [
    {
     "name": "stdout",
     "output_type": "stream",
     "text": [
      "Input shape: (16, 6, 12)\n",
      "Output shape: (16, 6, 1)\n"
     ]
    }
   ],
   "source": [
    "print('Input shape:', wide_window.example[0].shape)\n",
    "print('Output shape:', lstm_model(wide_window.example[0]).shape)"
   ]
  },
  {
   "cell_type": "code",
   "execution_count": 89,
   "metadata": {},
   "outputs": [
    {
     "name": "stdout",
     "output_type": "stream",
     "text": [
      "Epoch 1/100\n",
      "2109/2109 [==============================] - 17s 8ms/step - loss: 0.3534 - mean_absolute_error: 0.4314 - val_loss: 0.2302 - val_mean_absolute_error: 0.3342\n",
      "Epoch 2/100\n",
      "2109/2109 [==============================] - 18s 9ms/step - loss: 0.2628 - mean_absolute_error: 0.3538 - val_loss: 0.1792 - val_mean_absolute_error: 0.2889\n",
      "Epoch 3/100\n",
      "2109/2109 [==============================] - 19s 9ms/step - loss: 0.2138 - mean_absolute_error: 0.3119 - val_loss: 0.1704 - val_mean_absolute_error: 0.2723\n",
      "Epoch 4/100\n",
      "2109/2109 [==============================] - 18s 8ms/step - loss: 0.1938 - mean_absolute_error: 0.2931 - val_loss: 0.1679 - val_mean_absolute_error: 0.2676\n",
      "Epoch 5/100\n",
      "2109/2109 [==============================] - 17s 8ms/step - loss: 0.1774 - mean_absolute_error: 0.2781 - val_loss: 0.1581 - val_mean_absolute_error: 0.2612\n",
      "Epoch 6/100\n",
      "2109/2109 [==============================] - 17s 8ms/step - loss: 0.1687 - mean_absolute_error: 0.2698 - val_loss: 0.1390 - val_mean_absolute_error: 0.2474\n",
      "Epoch 7/100\n",
      "2109/2109 [==============================] - 17s 8ms/step - loss: 0.1604 - mean_absolute_error: 0.2618 - val_loss: 0.1434 - val_mean_absolute_error: 0.2470\n",
      "Epoch 8/100\n",
      "2109/2109 [==============================] - 17s 8ms/step - loss: 0.1543 - mean_absolute_error: 0.2559 - val_loss: 0.1288 - val_mean_absolute_error: 0.2358\n",
      "Epoch 9/100\n",
      "2109/2109 [==============================] - 19s 9ms/step - loss: 0.1498 - mean_absolute_error: 0.2520 - val_loss: 0.1186 - val_mean_absolute_error: 0.2263\n",
      "Epoch 10/100\n",
      "2109/2109 [==============================] - 17s 8ms/step - loss: 0.1448 - mean_absolute_error: 0.2472 - val_loss: 0.1370 - val_mean_absolute_error: 0.2386\n",
      "Epoch 11/100\n",
      "2109/2109 [==============================] - 17s 8ms/step - loss: 0.1411 - mean_absolute_error: 0.2437 - val_loss: 0.1274 - val_mean_absolute_error: 0.2322\n"
     ]
    }
   ],
   "source": [
    "history = compile_and_fit(lstm_model, wide_window)"
   ]
  },
  {
   "cell_type": "code",
   "execution_count": 90,
   "metadata": {},
   "outputs": [
    {
     "name": "stdout",
     "output_type": "stream",
     "text": [
      "Model: \"sequential_8\"\n",
      "_________________________________________________________________\n",
      "Layer (type)                 Output Shape              Param #   \n",
      "=================================================================\n",
      "conv1d_8 (Conv1D)            (None, 6, 64)             3904      \n",
      "_________________________________________________________________\n",
      "max_pooling1d_8 (MaxPooling1 (None, 6, 64)             0         \n",
      "_________________________________________________________________\n",
      "bidirectional_6 (Bidirection (None, 6, 128)            66048     \n",
      "_________________________________________________________________\n",
      "bidirectional_7 (Bidirection (None, 6, 128)            98816     \n",
      "_________________________________________________________________\n",
      "dense_8 (Dense)              (None, 6, 1)              129       \n",
      "=================================================================\n",
      "Total params: 168,897\n",
      "Trainable params: 168,897\n",
      "Non-trainable params: 0\n",
      "_________________________________________________________________\n"
     ]
    }
   ],
   "source": [
    "lstm_model.summary()"
   ]
  },
  {
   "cell_type": "code",
   "execution_count": 91,
   "metadata": {},
   "outputs": [
    {
     "name": "stdout",
     "output_type": "stream",
     "text": [
      "603/603 [==============================] - 1s 2ms/step - loss: 0.1274 - mean_absolute_error: 0.2322\n"
     ]
    }
   ],
   "source": [
    "val_performance = {}\n",
    "performance = {}\n",
    "IPython.display.clear_output()\n",
    "val_performance['LSTM'] = lstm_model.evaluate(wide_window.val)\n",
    "performance['LSTM'] = lstm_model.evaluate(wide_window.test, verbose=0)"
   ]
  },
  {
   "cell_type": "markdown",
   "metadata": {},
   "source": [
    "**CuDNN model**"
   ]
  },
  {
   "cell_type": "code",
   "execution_count": 87,
   "metadata": {},
   "outputs": [],
   "source": [
    "batch_size = 16\n",
    "input_dim = 12\n",
    "\n",
    "units = 16\n",
    "output_size = 1  \n",
    "\n",
    "# Build the RNN model\n",
    "def build_model(allow_cudnn_kernel=True):\n",
    "    # CuDNN is only available at the layer level, and not at the cell level.\n",
    "    # This means `LSTM(units)` will use the CuDNN kernel,\n",
    "    # while RNN(LSTMCell(units)) will run on non-CuDNN kernel.\n",
    "    if allow_cudnn_kernel:\n",
    "        # The LSTM layer with default options uses CuDNN.\n",
    "        lstm_layer = tf.keras.layers.LSTM(units, input_shape=(None, input_dim))\n",
    "        \n",
    "    else:\n",
    "        # Wrapping a LSTMCell in a RNN layer will not use CuDNN.\n",
    "        lstm_layer = tf.keras.layers.RNN(\n",
    "            tf.keras.layers.LSTMCell(units), input_shape=(None, input_dim)\n",
    "        )\n",
    "    model = tf.keras.models.Sequential(\n",
    "        [\n",
    "            lstm_layer,\n",
    "            tf.keras.layers.BatchNormalization(),\n",
    "            tf.keras.layers.Dense(output_size),\n",
    "        ]\n",
    "    )\n",
    "    return model"
   ]
  },
  {
   "cell_type": "code",
   "execution_count": 88,
   "metadata": {},
   "outputs": [
    {
     "name": "stdout",
     "output_type": "stream",
     "text": [
      "Epoch 1/100\n",
      "2109/2109 [==============================] - 5s 2ms/step - loss: 0.5770 - mean_absolute_error: 0.6012 - val_loss: 0.6631 - val_mean_absolute_error: 0.6118\n",
      "Epoch 2/100\n",
      "2109/2109 [==============================] - 5s 2ms/step - loss: 0.4782 - mean_absolute_error: 0.5512 - val_loss: 0.5147 - val_mean_absolute_error: 0.5408\n",
      "Epoch 3/100\n",
      "2109/2109 [==============================] - 5s 2ms/step - loss: 0.4509 - mean_absolute_error: 0.5349 - val_loss: 0.5885 - val_mean_absolute_error: 0.5650\n",
      "Epoch 4/100\n",
      "2109/2109 [==============================] - 5s 2ms/step - loss: 0.4330 - mean_absolute_error: 0.5239 - val_loss: 0.6379 - val_mean_absolute_error: 0.5783\n"
     ]
    }
   ],
   "source": [
    "cudnn_model = build_model(allow_cudnn_kernel=True)\n",
    "history = compile_and_fit(cudnn_model, wide_window)"
   ]
  },
  {
   "cell_type": "markdown",
   "metadata": {},
   "source": [
    "### Plot the model"
   ]
  },
  {
   "cell_type": "code",
   "execution_count": 120,
   "metadata": {},
   "outputs": [
    {
     "data": {
      "image/png": "[encoded data removed]",
      "text/plain": [
       "<Figure size 576x432 with 1 Axes>"
      ]
     },
     "metadata": {
      "needs_background": "light"
     },
     "output_type": "display_data"
    }
   ],
   "source": [
    "plt.plot(history.history['mean_absolute_error'], label='train')\n",
    "plt.plot(history.history['val_mean_absolute_error'], label='validation')\n",
    "plt.title('Model Loss: Training versus Validation')\n",
    "plt.ylabel('MAE')\n",
    "plt.xlabel('Epoch')\n",
    "plt.legend()\n",
    "plt.show()"
   ]
  },
  {
   "cell_type": "code",
   "execution_count": 121,
   "metadata": {},
   "outputs": [
    {
     "data": {
      "text/plain": [
       "(1, 4821, 12)"
      ]
     },
     "execution_count": 121,
     "metadata": {},
     "output_type": "execute_result"
    }
   ],
   "source": [
    "target = np.expand_dims(test_df, axis=0)\n",
    "target.shape"
   ]
  },
  {
   "cell_type": "code",
   "execution_count": 122,
   "metadata": {},
   "outputs": [
    {
     "name": "stdout",
     "output_type": "stream",
     "text": [
      "(1, 4821, 1)\n"
     ]
    }
   ],
   "source": [
    "predictions = lstm_model.predict(target)\n",
    "print(predictions.shape)"
   ]
  },
  {
   "cell_type": "code",
   "execution_count": 123,
   "metadata": {},
   "outputs": [
    {
     "data": {
      "text/plain": [
       "array([[[ 0.98079664],\n",
       "        [ 0.9825061 ],\n",
       "        [ 1.0031459 ],\n",
       "        ...,\n",
       "        [-1.3915584 ],\n",
       "        [-1.4099038 ],\n",
       "        [-1.4298885 ]]], dtype=float32)"
      ]
     },
     "execution_count": 123,
     "metadata": {},
     "output_type": "execute_result"
    }
   ],
   "source": [
    "predictions"
   ]
  },
  {
   "cell_type": "code",
   "execution_count": 124,
   "metadata": {},
   "outputs": [
    {
     "data": {
      "text/html": [
       "<div>\n",
       "<style scoped>\n",
       "    .dataframe tbody tr th:only-of-type {\n",
       "        vertical-align: middle;\n",
       "    }\n",
       "\n",
       "    .dataframe tbody tr th {\n",
       "        vertical-align: top;\n",
       "    }\n",
       "\n",
       "    .dataframe thead th {\n",
       "        text-align: right;\n",
       "    }\n",
       "</style>\n",
       "<table border=\"1\" class=\"dataframe\">\n",
       "  <thead>\n",
       "    <tr style=\"text-align: right;\">\n",
       "      <th></th>\n",
       "      <th>0</th>\n",
       "    </tr>\n",
       "  </thead>\n",
       "  <tbody>\n",
       "    <tr>\n",
       "      <th>0</th>\n",
       "      <td>0.980797</td>\n",
       "    </tr>\n",
       "    <tr>\n",
       "      <th>1</th>\n",
       "      <td>0.982506</td>\n",
       "    </tr>\n",
       "    <tr>\n",
       "      <th>2</th>\n",
       "      <td>1.003146</td>\n",
       "    </tr>\n",
       "    <tr>\n",
       "      <th>3</th>\n",
       "      <td>0.995604</td>\n",
       "    </tr>\n",
       "    <tr>\n",
       "      <th>4</th>\n",
       "      <td>0.989900</td>\n",
       "    </tr>\n",
       "  </tbody>\n",
       "</table>\n",
       "</div>"
      ],
      "text/plain": [
       "          0\n",
       "0  0.980797\n",
       "1  0.982506\n",
       "2  1.003146\n",
       "3  0.995604\n",
       "4  0.989900"
      ]
     },
     "execution_count": 124,
     "metadata": {},
     "output_type": "execute_result"
    }
   ],
   "source": [
    "p = pd.DataFrame(np.concatenate(predictions))\n",
    "p.head()"
   ]
  },
  {
   "cell_type": "markdown",
   "metadata": {},
   "source": [
    "#### Denormalize result data"
   ]
  },
  {
   "cell_type": "code",
   "execution_count": 125,
   "metadata": {},
   "outputs": [
    {
     "name": "stdout",
     "output_type": "stream",
     "text": [
      "Mean: 3240.387854898939\n",
      "Standardization: 1991.6329781952038\n"
     ]
    }
   ],
   "source": [
    "mean = train_mean['traffic_volume']\n",
    "print(\"Mean:\", mean)\n",
    "std = train_std['traffic_volume']\n",
    "print(\"Standardization:\", std)"
   ]
  },
  {
   "cell_type": "code",
   "execution_count": 126,
   "metadata": {},
   "outputs": [],
   "source": [
    "pred_denorm = []\n",
    "for i in range(p.shape[0]):\n",
    "    denorm = p[0][i]*std + mean  # denormalize) y = y'*std + mean\n",
    "    pred_denorm.append(denorm)\n",
    "    \n",
    "#pred_denorm"
   ]
  },
  {
   "cell_type": "code",
   "execution_count": 127,
   "metadata": {},
   "outputs": [
    {
     "name": "stdout",
     "output_type": "stream",
     "text": [
      "(4813, 1)\n"
     ]
    },
    {
     "data": {
      "text/html": [
       "<div>\n",
       "<style scoped>\n",
       "    .dataframe tbody tr th:only-of-type {\n",
       "        vertical-align: middle;\n",
       "    }\n",
       "\n",
       "    .dataframe tbody tr th {\n",
       "        vertical-align: top;\n",
       "    }\n",
       "\n",
       "    .dataframe thead th {\n",
       "        text-align: right;\n",
       "    }\n",
       "</style>\n",
       "<table border=\"1\" class=\"dataframe\">\n",
       "  <thead>\n",
       "    <tr style=\"text-align: right;\">\n",
       "      <th></th>\n",
       "      <th>prediction</th>\n",
       "    </tr>\n",
       "  </thead>\n",
       "  <tbody>\n",
       "    <tr>\n",
       "      <th>0</th>\n",
       "      <td>5302.025884</td>\n",
       "    </tr>\n",
       "    <tr>\n",
       "      <th>1</th>\n",
       "      <td>5326.814315</td>\n",
       "    </tr>\n",
       "    <tr>\n",
       "      <th>2</th>\n",
       "      <td>5331.495073</td>\n",
       "    </tr>\n",
       "    <tr>\n",
       "      <th>3</th>\n",
       "      <td>5365.272743</td>\n",
       "    </tr>\n",
       "    <tr>\n",
       "      <th>4</th>\n",
       "      <td>5399.619036</td>\n",
       "    </tr>\n",
       "  </tbody>\n",
       "</table>\n",
       "</div>"
      ],
      "text/plain": [
       "    prediction\n",
       "0  5302.025884\n",
       "1  5326.814315\n",
       "2  5331.495073\n",
       "3  5365.272743\n",
       "4  5399.619036"
      ]
     },
     "execution_count": 127,
     "metadata": {},
     "output_type": "execute_result"
    }
   ],
   "source": [
    "pred = pd.DataFrame(pred_denorm)\n",
    "pred = pred[8:]\n",
    "pred.columns=['prediction']\n",
    "pred.index = np.arange(0,len(pred))\n",
    "print(pred.shape)\n",
    "pred.head()"
   ]
  },
  {
   "cell_type": "code",
   "execution_count": 128,
   "metadata": {},
   "outputs": [],
   "source": [
    "pred.loc[:,'id'] = idx"
   ]
  },
  {
   "cell_type": "code",
   "execution_count": 130,
   "metadata": {
    "scrolled": false
   },
   "outputs": [],
   "source": [
    "cols = pred.columns.tolist()\n",
    "cols = cols[-1:] + cols[:-1]\n",
    "pred = pred[cols]"
   ]
  },
  {
   "cell_type": "code",
   "execution_count": 131,
   "metadata": {},
   "outputs": [
    {
     "data": {
      "text/html": [
       "<div>\n",
       "<style scoped>\n",
       "    .dataframe tbody tr th:only-of-type {\n",
       "        vertical-align: middle;\n",
       "    }\n",
       "\n",
       "    .dataframe tbody tr th {\n",
       "        vertical-align: top;\n",
       "    }\n",
       "\n",
       "    .dataframe thead th {\n",
       "        text-align: right;\n",
       "    }\n",
       "</style>\n",
       "<table border=\"1\" class=\"dataframe\">\n",
       "  <thead>\n",
       "    <tr style=\"text-align: right;\">\n",
       "      <th></th>\n",
       "      <th>prediction</th>\n",
       "    </tr>\n",
       "    <tr>\n",
       "      <th>id</th>\n",
       "      <th></th>\n",
       "    </tr>\n",
       "  </thead>\n",
       "  <tbody>\n",
       "    <tr>\n",
       "      <th>43391</th>\n",
       "      <td>5302.025884</td>\n",
       "    </tr>\n",
       "    <tr>\n",
       "      <th>43392</th>\n",
       "      <td>5326.814315</td>\n",
       "    </tr>\n",
       "    <tr>\n",
       "      <th>43393</th>\n",
       "      <td>5331.495073</td>\n",
       "    </tr>\n",
       "    <tr>\n",
       "      <th>43394</th>\n",
       "      <td>5365.272743</td>\n",
       "    </tr>\n",
       "    <tr>\n",
       "      <th>43395</th>\n",
       "      <td>5399.619036</td>\n",
       "    </tr>\n",
       "    <tr>\n",
       "      <th>...</th>\n",
       "      <td>...</td>\n",
       "    </tr>\n",
       "    <tr>\n",
       "      <th>48199</th>\n",
       "      <td>349.196520</td>\n",
       "    </tr>\n",
       "    <tr>\n",
       "      <th>48200</th>\n",
       "      <td>391.378899</td>\n",
       "    </tr>\n",
       "    <tr>\n",
       "      <th>48201</th>\n",
       "      <td>468.914237</td>\n",
       "    </tr>\n",
       "    <tr>\n",
       "      <th>48202</th>\n",
       "      <td>432.377021</td>\n",
       "    </tr>\n",
       "    <tr>\n",
       "      <th>48203</th>\n",
       "      <td>392.574789</td>\n",
       "    </tr>\n",
       "  </tbody>\n",
       "</table>\n",
       "<p>4813 rows × 1 columns</p>\n",
       "</div>"
      ],
      "text/plain": [
       "        prediction\n",
       "id                \n",
       "43391  5302.025884\n",
       "43392  5326.814315\n",
       "43393  5331.495073\n",
       "43394  5365.272743\n",
       "43395  5399.619036\n",
       "...            ...\n",
       "48199   349.196520\n",
       "48200   391.378899\n",
       "48201   468.914237\n",
       "48202   432.377021\n",
       "48203   392.574789\n",
       "\n",
       "[4813 rows x 1 columns]"
      ]
     },
     "execution_count": 131,
     "metadata": {},
     "output_type": "execute_result"
    }
   ],
   "source": [
    "pred = pred.set_index('id')\n",
    "pred"
   ]
  },
  {
   "cell_type": "code",
   "execution_count": 100,
   "metadata": {},
   "outputs": [],
   "source": [
    "#pred.to_csv('predictions19_includeCategory.csv')"
   ]
  }
 ],
 "metadata": {
  "kernelspec": {
   "display_name": "Python 3",
   "language": "python",
   "name": "python3"
  },
  "language_info": {
   "codemirror_mode": {
    "name": "ipython",
    "version": 3
   },
   "file_extension": ".py",
   "mimetype": "text/x-python",
   "name": "python",
   "nbconvert_exporter": "python",
   "pygments_lexer": "ipython3",
   "version": "3.7.6"
  }
 },
 "nbformat": 4,
 "nbformat_minor": 4
}
